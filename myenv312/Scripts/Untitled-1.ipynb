{
 "cells": [
  {
   "cell_type": "code",
   "execution_count": 1,
   "metadata": {},
   "outputs": [
    {
     "name": "stdout",
     "output_type": "stream",
     "text": [
      "Requirement already satisfied: deepeval in c:\\users\\13735\\onedrive - expleo france\\desktop\\ai testing course\\myenv312\\lib\\site-packages (3.0.3)\n",
      "Requirement already satisfied: aiohttp in c:\\users\\13735\\onedrive - expleo france\\desktop\\ai testing course\\myenv312\\lib\\site-packages (from deepeval) (3.12.7)\n",
      "Requirement already satisfied: anthropic<0.50.0,>=0.49.0 in c:\\users\\13735\\onedrive - expleo france\\desktop\\ai testing course\\myenv312\\lib\\site-packages (from deepeval) (0.49.0)\n",
      "Requirement already satisfied: click<8.2.0,>=8.0.0 in c:\\users\\13735\\onedrive - expleo france\\desktop\\ai testing course\\myenv312\\lib\\site-packages (from deepeval) (8.1.8)\n",
      "Requirement already satisfied: google-genai<2.0.0,>=1.9.0 in c:\\users\\13735\\onedrive - expleo france\\desktop\\ai testing course\\myenv312\\lib\\site-packages (from deepeval) (1.18.0)\n",
      "Requirement already satisfied: grpcio<2.0.0,>=1.67.1 in c:\\users\\13735\\onedrive - expleo france\\desktop\\ai testing course\\myenv312\\lib\\site-packages (from deepeval) (1.72.1)\n",
      "Requirement already satisfied: nest_asyncio in c:\\users\\13735\\onedrive - expleo france\\desktop\\ai testing course\\myenv312\\lib\\site-packages (from deepeval) (1.6.0)\n",
      "Requirement already satisfied: ollama in c:\\users\\13735\\onedrive - expleo france\\desktop\\ai testing course\\myenv312\\lib\\site-packages (from deepeval) (0.5.1)\n",
      "Requirement already satisfied: openai in c:\\users\\13735\\onedrive - expleo france\\desktop\\ai testing course\\myenv312\\lib\\site-packages (from deepeval) (1.83.0)\n",
      "Requirement already satisfied: opentelemetry-api<2.0.0,>=1.24.0 in c:\\users\\13735\\onedrive - expleo france\\desktop\\ai testing course\\myenv312\\lib\\site-packages (from deepeval) (1.33.1)\n",
      "Requirement already satisfied: opentelemetry-exporter-otlp-proto-grpc<2.0.0,>=1.24.0 in c:\\users\\13735\\onedrive - expleo france\\desktop\\ai testing course\\myenv312\\lib\\site-packages (from deepeval) (1.33.1)\n",
      "Requirement already satisfied: opentelemetry-sdk<2.0.0,>=1.24.0 in c:\\users\\13735\\onedrive - expleo france\\desktop\\ai testing course\\myenv312\\lib\\site-packages (from deepeval) (1.33.1)\n",
      "Requirement already satisfied: portalocker in c:\\users\\13735\\onedrive - expleo france\\desktop\\ai testing course\\myenv312\\lib\\site-packages (from deepeval) (3.1.1)\n",
      "Requirement already satisfied: posthog<4.0.0,>=3.23.0 in c:\\users\\13735\\onedrive - expleo france\\desktop\\ai testing course\\myenv312\\lib\\site-packages (from deepeval) (3.25.0)\n",
      "Requirement already satisfied: pytest in c:\\users\\13735\\onedrive - expleo france\\desktop\\ai testing course\\myenv312\\lib\\site-packages (from deepeval) (8.4.0)\n",
      "Requirement already satisfied: pytest-asyncio in c:\\users\\13735\\onedrive - expleo france\\desktop\\ai testing course\\myenv312\\lib\\site-packages (from deepeval) (1.0.0)\n",
      "Requirement already satisfied: pytest-repeat in c:\\users\\13735\\onedrive - expleo france\\desktop\\ai testing course\\myenv312\\lib\\site-packages (from deepeval) (0.9.4)\n",
      "Requirement already satisfied: pytest-rerunfailures<13.0,>=12.0 in c:\\users\\13735\\onedrive - expleo france\\desktop\\ai testing course\\myenv312\\lib\\site-packages (from deepeval) (12.0)\n",
      "Requirement already satisfied: pytest-xdist in c:\\users\\13735\\onedrive - expleo france\\desktop\\ai testing course\\myenv312\\lib\\site-packages (from deepeval) (3.7.0)\n",
      "Requirement already satisfied: requests<3.0.0,>=2.31.0 in c:\\users\\13735\\onedrive - expleo france\\desktop\\ai testing course\\myenv312\\lib\\site-packages (from deepeval) (2.32.3)\n",
      "Requirement already satisfied: rich<14.0.0,>=13.6.0 in c:\\users\\13735\\onedrive - expleo france\\desktop\\ai testing course\\myenv312\\lib\\site-packages (from deepeval) (13.9.4)\n",
      "Requirement already satisfied: sentry-sdk in c:\\users\\13735\\onedrive - expleo france\\desktop\\ai testing course\\myenv312\\lib\\site-packages (from deepeval) (2.29.1)\n",
      "Requirement already satisfied: setuptools in c:\\users\\13735\\onedrive - expleo france\\desktop\\ai testing course\\myenv312\\lib\\site-packages (from deepeval) (80.9.0)\n",
      "Requirement already satisfied: tabulate<0.10.0,>=0.9.0 in c:\\users\\13735\\onedrive - expleo france\\desktop\\ai testing course\\myenv312\\lib\\site-packages (from deepeval) (0.9.0)\n",
      "Requirement already satisfied: tenacity<=9.0.0 in c:\\users\\13735\\onedrive - expleo france\\desktop\\ai testing course\\myenv312\\lib\\site-packages (from deepeval) (9.0.0)\n",
      "Requirement already satisfied: tqdm<5.0.0,>=4.66.1 in c:\\users\\13735\\onedrive - expleo france\\desktop\\ai testing course\\myenv312\\lib\\site-packages (from deepeval) (4.67.1)\n",
      "Requirement already satisfied: typer<1.0.0,>=0.9 in c:\\users\\13735\\onedrive - expleo france\\desktop\\ai testing course\\myenv312\\lib\\site-packages (from deepeval) (0.16.0)\n",
      "Requirement already satisfied: wheel in c:\\users\\13735\\onedrive - expleo france\\desktop\\ai testing course\\myenv312\\lib\\site-packages (from deepeval) (0.45.1)\n",
      "Requirement already satisfied: anyio<5,>=3.5.0 in c:\\users\\13735\\onedrive - expleo france\\desktop\\ai testing course\\myenv312\\lib\\site-packages (from anthropic<0.50.0,>=0.49.0->deepeval) (4.9.0)\n",
      "Requirement already satisfied: distro<2,>=1.7.0 in c:\\users\\13735\\onedrive - expleo france\\desktop\\ai testing course\\myenv312\\lib\\site-packages (from anthropic<0.50.0,>=0.49.0->deepeval) (1.9.0)\n",
      "Requirement already satisfied: httpx<1,>=0.23.0 in c:\\users\\13735\\onedrive - expleo france\\desktop\\ai testing course\\myenv312\\lib\\site-packages (from anthropic<0.50.0,>=0.49.0->deepeval) (0.28.1)\n",
      "Requirement already satisfied: jiter<1,>=0.4.0 in c:\\users\\13735\\onedrive - expleo france\\desktop\\ai testing course\\myenv312\\lib\\site-packages (from anthropic<0.50.0,>=0.49.0->deepeval) (0.10.0)\n",
      "Requirement already satisfied: pydantic<3,>=1.9.0 in c:\\users\\13735\\onedrive - expleo france\\desktop\\ai testing course\\myenv312\\lib\\site-packages (from anthropic<0.50.0,>=0.49.0->deepeval) (2.11.5)\n",
      "Requirement already satisfied: sniffio in c:\\users\\13735\\onedrive - expleo france\\desktop\\ai testing course\\myenv312\\lib\\site-packages (from anthropic<0.50.0,>=0.49.0->deepeval) (1.3.1)\n",
      "Requirement already satisfied: typing-extensions<5,>=4.10 in c:\\users\\13735\\onedrive - expleo france\\desktop\\ai testing course\\myenv312\\lib\\site-packages (from anthropic<0.50.0,>=0.49.0->deepeval) (4.14.0)\n",
      "Requirement already satisfied: colorama in c:\\users\\13735\\onedrive - expleo france\\desktop\\ai testing course\\myenv312\\lib\\site-packages (from click<8.2.0,>=8.0.0->deepeval) (0.4.6)\n",
      "Requirement already satisfied: google-auth<3.0.0,>=2.14.1 in c:\\users\\13735\\onedrive - expleo france\\desktop\\ai testing course\\myenv312\\lib\\site-packages (from google-genai<2.0.0,>=1.9.0->deepeval) (2.40.2)\n",
      "Requirement already satisfied: websockets<15.1.0,>=13.0.0 in c:\\users\\13735\\onedrive - expleo france\\desktop\\ai testing course\\myenv312\\lib\\site-packages (from google-genai<2.0.0,>=1.9.0->deepeval) (15.0.1)\n",
      "Requirement already satisfied: deprecated>=1.2.6 in c:\\users\\13735\\onedrive - expleo france\\desktop\\ai testing course\\myenv312\\lib\\site-packages (from opentelemetry-api<2.0.0,>=1.24.0->deepeval) (1.2.18)\n",
      "Requirement already satisfied: importlib-metadata<8.7.0,>=6.0 in c:\\users\\13735\\onedrive - expleo france\\desktop\\ai testing course\\myenv312\\lib\\site-packages (from opentelemetry-api<2.0.0,>=1.24.0->deepeval) (8.6.1)\n",
      "Requirement already satisfied: googleapis-common-protos~=1.52 in c:\\users\\13735\\onedrive - expleo france\\desktop\\ai testing course\\myenv312\\lib\\site-packages (from opentelemetry-exporter-otlp-proto-grpc<2.0.0,>=1.24.0->deepeval) (1.70.0)\n",
      "Requirement already satisfied: opentelemetry-exporter-otlp-proto-common==1.33.1 in c:\\users\\13735\\onedrive - expleo france\\desktop\\ai testing course\\myenv312\\lib\\site-packages (from opentelemetry-exporter-otlp-proto-grpc<2.0.0,>=1.24.0->deepeval) (1.33.1)\n",
      "Requirement already satisfied: opentelemetry-proto==1.33.1 in c:\\users\\13735\\onedrive - expleo france\\desktop\\ai testing course\\myenv312\\lib\\site-packages (from opentelemetry-exporter-otlp-proto-grpc<2.0.0,>=1.24.0->deepeval) (1.33.1)\n",
      "Requirement already satisfied: protobuf<6.0,>=5.0 in c:\\users\\13735\\onedrive - expleo france\\desktop\\ai testing course\\myenv312\\lib\\site-packages (from opentelemetry-proto==1.33.1->opentelemetry-exporter-otlp-proto-grpc<2.0.0,>=1.24.0->deepeval) (5.29.5)\n",
      "Requirement already satisfied: opentelemetry-semantic-conventions==0.54b1 in c:\\users\\13735\\onedrive - expleo france\\desktop\\ai testing course\\myenv312\\lib\\site-packages (from opentelemetry-sdk<2.0.0,>=1.24.0->deepeval) (0.54b1)\n",
      "Requirement already satisfied: six>=1.5 in c:\\users\\13735\\onedrive - expleo france\\desktop\\ai testing course\\myenv312\\lib\\site-packages (from posthog<4.0.0,>=3.23.0->deepeval) (1.17.0)\n",
      "Requirement already satisfied: monotonic>=1.5 in c:\\users\\13735\\onedrive - expleo france\\desktop\\ai testing course\\myenv312\\lib\\site-packages (from posthog<4.0.0,>=3.23.0->deepeval) (1.6)\n",
      "Requirement already satisfied: backoff>=1.10.0 in c:\\users\\13735\\onedrive - expleo france\\desktop\\ai testing course\\myenv312\\lib\\site-packages (from posthog<4.0.0,>=3.23.0->deepeval) (2.2.1)\n",
      "Requirement already satisfied: python-dateutil>2.1 in c:\\users\\13735\\onedrive - expleo france\\desktop\\ai testing course\\myenv312\\lib\\site-packages (from posthog<4.0.0,>=3.23.0->deepeval) (2.9.0.post0)\n",
      "Requirement already satisfied: packaging>=17.1 in c:\\users\\13735\\onedrive - expleo france\\desktop\\ai testing course\\myenv312\\lib\\site-packages (from pytest-rerunfailures<13.0,>=12.0->deepeval) (25.0)\n",
      "Requirement already satisfied: iniconfig>=1 in c:\\users\\13735\\onedrive - expleo france\\desktop\\ai testing course\\myenv312\\lib\\site-packages (from pytest->deepeval) (2.1.0)\n",
      "Requirement already satisfied: pluggy<2,>=1.5 in c:\\users\\13735\\onedrive - expleo france\\desktop\\ai testing course\\myenv312\\lib\\site-packages (from pytest->deepeval) (1.6.0)\n",
      "Requirement already satisfied: pygments>=2.7.2 in c:\\users\\13735\\onedrive - expleo france\\desktop\\ai testing course\\myenv312\\lib\\site-packages (from pytest->deepeval) (2.19.1)\n",
      "Requirement already satisfied: charset-normalizer<4,>=2 in c:\\users\\13735\\onedrive - expleo france\\desktop\\ai testing course\\myenv312\\lib\\site-packages (from requests<3.0.0,>=2.31.0->deepeval) (3.4.2)\n",
      "Requirement already satisfied: idna<4,>=2.5 in c:\\users\\13735\\onedrive - expleo france\\desktop\\ai testing course\\myenv312\\lib\\site-packages (from requests<3.0.0,>=2.31.0->deepeval) (3.10)\n",
      "Requirement already satisfied: urllib3<3,>=1.21.1 in c:\\users\\13735\\onedrive - expleo france\\desktop\\ai testing course\\myenv312\\lib\\site-packages (from requests<3.0.0,>=2.31.0->deepeval) (2.4.0)\n",
      "Requirement already satisfied: certifi>=2017.4.17 in c:\\users\\13735\\onedrive - expleo france\\desktop\\ai testing course\\myenv312\\lib\\site-packages (from requests<3.0.0,>=2.31.0->deepeval) (2025.4.26)\n",
      "Requirement already satisfied: markdown-it-py>=2.2.0 in c:\\users\\13735\\onedrive - expleo france\\desktop\\ai testing course\\myenv312\\lib\\site-packages (from rich<14.0.0,>=13.6.0->deepeval) (3.0.0)\n",
      "Requirement already satisfied: shellingham>=1.3.0 in c:\\users\\13735\\onedrive - expleo france\\desktop\\ai testing course\\myenv312\\lib\\site-packages (from typer<1.0.0,>=0.9->deepeval) (1.5.4)\n",
      "Requirement already satisfied: aiohappyeyeballs>=2.5.0 in c:\\users\\13735\\onedrive - expleo france\\desktop\\ai testing course\\myenv312\\lib\\site-packages (from aiohttp->deepeval) (2.6.1)\n",
      "Requirement already satisfied: aiosignal>=1.1.2 in c:\\users\\13735\\onedrive - expleo france\\desktop\\ai testing course\\myenv312\\lib\\site-packages (from aiohttp->deepeval) (1.3.2)\n",
      "Requirement already satisfied: attrs>=17.3.0 in c:\\users\\13735\\onedrive - expleo france\\desktop\\ai testing course\\myenv312\\lib\\site-packages (from aiohttp->deepeval) (25.3.0)\n",
      "Requirement already satisfied: frozenlist>=1.1.1 in c:\\users\\13735\\onedrive - expleo france\\desktop\\ai testing course\\myenv312\\lib\\site-packages (from aiohttp->deepeval) (1.6.0)\n",
      "Requirement already satisfied: multidict<7.0,>=4.5 in c:\\users\\13735\\onedrive - expleo france\\desktop\\ai testing course\\myenv312\\lib\\site-packages (from aiohttp->deepeval) (6.4.4)\n",
      "Requirement already satisfied: propcache>=0.2.0 in c:\\users\\13735\\onedrive - expleo france\\desktop\\ai testing course\\myenv312\\lib\\site-packages (from aiohttp->deepeval) (0.3.1)\n",
      "Requirement already satisfied: yarl<2.0,>=1.17.0 in c:\\users\\13735\\onedrive - expleo france\\desktop\\ai testing course\\myenv312\\lib\\site-packages (from aiohttp->deepeval) (1.20.0)\n",
      "Requirement already satisfied: pywin32>=226 in c:\\users\\13735\\onedrive - expleo france\\desktop\\ai testing course\\myenv312\\lib\\site-packages (from portalocker->deepeval) (310)\n",
      "Requirement already satisfied: execnet>=2.1 in c:\\users\\13735\\onedrive - expleo france\\desktop\\ai testing course\\myenv312\\lib\\site-packages (from pytest-xdist->deepeval) (2.1.1)\n",
      "Requirement already satisfied: wrapt<2,>=1.10 in c:\\users\\13735\\onedrive - expleo france\\desktop\\ai testing course\\myenv312\\lib\\site-packages (from deprecated>=1.2.6->opentelemetry-api<2.0.0,>=1.24.0->deepeval) (1.17.2)\n",
      "Requirement already satisfied: cachetools<6.0,>=2.0.0 in c:\\users\\13735\\onedrive - expleo france\\desktop\\ai testing course\\myenv312\\lib\\site-packages (from google-auth<3.0.0,>=2.14.1->google-genai<2.0.0,>=1.9.0->deepeval) (5.5.2)\n",
      "Requirement already satisfied: pyasn1-modules>=0.2.1 in c:\\users\\13735\\onedrive - expleo france\\desktop\\ai testing course\\myenv312\\lib\\site-packages (from google-auth<3.0.0,>=2.14.1->google-genai<2.0.0,>=1.9.0->deepeval) (0.4.2)\n",
      "Requirement already satisfied: rsa<5,>=3.1.4 in c:\\users\\13735\\onedrive - expleo france\\desktop\\ai testing course\\myenv312\\lib\\site-packages (from google-auth<3.0.0,>=2.14.1->google-genai<2.0.0,>=1.9.0->deepeval) (4.9.1)\n",
      "Requirement already satisfied: httpcore==1.* in c:\\users\\13735\\onedrive - expleo france\\desktop\\ai testing course\\myenv312\\lib\\site-packages (from httpx<1,>=0.23.0->anthropic<0.50.0,>=0.49.0->deepeval) (1.0.9)\n",
      "Requirement already satisfied: h11>=0.16 in c:\\users\\13735\\onedrive - expleo france\\desktop\\ai testing course\\myenv312\\lib\\site-packages (from httpcore==1.*->httpx<1,>=0.23.0->anthropic<0.50.0,>=0.49.0->deepeval) (0.16.0)\n",
      "Requirement already satisfied: zipp>=3.20 in c:\\users\\13735\\onedrive - expleo france\\desktop\\ai testing course\\myenv312\\lib\\site-packages (from importlib-metadata<8.7.0,>=6.0->opentelemetry-api<2.0.0,>=1.24.0->deepeval) (3.22.0)\n",
      "Requirement already satisfied: mdurl~=0.1 in c:\\users\\13735\\onedrive - expleo france\\desktop\\ai testing course\\myenv312\\lib\\site-packages (from markdown-it-py>=2.2.0->rich<14.0.0,>=13.6.0->deepeval) (0.1.2)\n",
      "Requirement already satisfied: annotated-types>=0.6.0 in c:\\users\\13735\\onedrive - expleo france\\desktop\\ai testing course\\myenv312\\lib\\site-packages (from pydantic<3,>=1.9.0->anthropic<0.50.0,>=0.49.0->deepeval) (0.7.0)\n",
      "Requirement already satisfied: pydantic-core==2.33.2 in c:\\users\\13735\\onedrive - expleo france\\desktop\\ai testing course\\myenv312\\lib\\site-packages (from pydantic<3,>=1.9.0->anthropic<0.50.0,>=0.49.0->deepeval) (2.33.2)\n",
      "Requirement already satisfied: typing-inspection>=0.4.0 in c:\\users\\13735\\onedrive - expleo france\\desktop\\ai testing course\\myenv312\\lib\\site-packages (from pydantic<3,>=1.9.0->anthropic<0.50.0,>=0.49.0->deepeval) (0.4.1)\n",
      "Requirement already satisfied: pyasn1<0.7.0,>=0.6.1 in c:\\users\\13735\\onedrive - expleo france\\desktop\\ai testing course\\myenv312\\lib\\site-packages (from pyasn1-modules>=0.2.1->google-auth<3.0.0,>=2.14.1->google-genai<2.0.0,>=1.9.0->deepeval) (0.6.1)\n",
      "Note: you may need to restart the kernel to use updated packages.\n"
     ]
    },
    {
     "name": "stderr",
     "output_type": "stream",
     "text": [
      "\n",
      "[notice] A new release of pip is available: 24.0 -> 25.1.1\n",
      "[notice] To update, run: python.exe -m pip install --upgrade pip\n"
     ]
    }
   ],
   "source": [
    "pip install -U deepeval"
   ]
  },
  {
   "cell_type": "markdown",
   "metadata": {},
   "source": [
    "creating confident ai"
   ]
  },
  {
   "cell_type": "code",
   "execution_count": 3,
   "metadata": {},
   "outputs": [
    {
     "name": "stderr",
     "output_type": "stream",
     "text": [
      "\n",
      "[notice] A new release of pip is available: 24.0 -> 25.1.1\n",
      "[notice] To update, run: python.exe -m pip install --upgrade pip\n"
     ]
    },
    {
     "name": "stdout",
     "output_type": "stream",
     "text": [
      "Requirement already satisfied: deepeval in c:\\users\\13735\\onedrive - expleo france\\desktop\\ai testing course\\myenv312\\lib\\site-packages (3.0.3)\n",
      "Requirement already satisfied: aiohttp in c:\\users\\13735\\onedrive - expleo france\\desktop\\ai testing course\\myenv312\\lib\\site-packages (from deepeval) (3.12.7)\n",
      "Requirement already satisfied: anthropic<0.50.0,>=0.49.0 in c:\\users\\13735\\onedrive - expleo france\\desktop\\ai testing course\\myenv312\\lib\\site-packages (from deepeval) (0.49.0)\n",
      "Requirement already satisfied: click<8.2.0,>=8.0.0 in c:\\users\\13735\\onedrive - expleo france\\desktop\\ai testing course\\myenv312\\lib\\site-packages (from deepeval) (8.1.8)\n",
      "Requirement already satisfied: google-genai<2.0.0,>=1.9.0 in c:\\users\\13735\\onedrive - expleo france\\desktop\\ai testing course\\myenv312\\lib\\site-packages (from deepeval) (1.18.0)\n",
      "Requirement already satisfied: grpcio<2.0.0,>=1.67.1 in c:\\users\\13735\\onedrive - expleo france\\desktop\\ai testing course\\myenv312\\lib\\site-packages (from deepeval) (1.72.1)\n",
      "Requirement already satisfied: nest_asyncio in c:\\users\\13735\\onedrive - expleo france\\desktop\\ai testing course\\myenv312\\lib\\site-packages (from deepeval) (1.6.0)\n",
      "Requirement already satisfied: ollama in c:\\users\\13735\\onedrive - expleo france\\desktop\\ai testing course\\myenv312\\lib\\site-packages (from deepeval) (0.5.1)\n",
      "Requirement already satisfied: openai in c:\\users\\13735\\onedrive - expleo france\\desktop\\ai testing course\\myenv312\\lib\\site-packages (from deepeval) (1.83.0)\n",
      "Requirement already satisfied: opentelemetry-api<2.0.0,>=1.24.0 in c:\\users\\13735\\onedrive - expleo france\\desktop\\ai testing course\\myenv312\\lib\\site-packages (from deepeval) (1.33.1)\n",
      "Requirement already satisfied: opentelemetry-exporter-otlp-proto-grpc<2.0.0,>=1.24.0 in c:\\users\\13735\\onedrive - expleo france\\desktop\\ai testing course\\myenv312\\lib\\site-packages (from deepeval) (1.33.1)\n",
      "Requirement already satisfied: opentelemetry-sdk<2.0.0,>=1.24.0 in c:\\users\\13735\\onedrive - expleo france\\desktop\\ai testing course\\myenv312\\lib\\site-packages (from deepeval) (1.33.1)\n",
      "Requirement already satisfied: portalocker in c:\\users\\13735\\onedrive - expleo france\\desktop\\ai testing course\\myenv312\\lib\\site-packages (from deepeval) (3.1.1)\n",
      "Requirement already satisfied: posthog<4.0.0,>=3.23.0 in c:\\users\\13735\\onedrive - expleo france\\desktop\\ai testing course\\myenv312\\lib\\site-packages (from deepeval) (3.25.0)\n",
      "Requirement already satisfied: pytest in c:\\users\\13735\\onedrive - expleo france\\desktop\\ai testing course\\myenv312\\lib\\site-packages (from deepeval) (8.4.0)\n",
      "Requirement already satisfied: pytest-asyncio in c:\\users\\13735\\onedrive - expleo france\\desktop\\ai testing course\\myenv312\\lib\\site-packages (from deepeval) (1.0.0)\n",
      "Requirement already satisfied: pytest-repeat in c:\\users\\13735\\onedrive - expleo france\\desktop\\ai testing course\\myenv312\\lib\\site-packages (from deepeval) (0.9.4)\n",
      "Requirement already satisfied: pytest-rerunfailures<13.0,>=12.0 in c:\\users\\13735\\onedrive - expleo france\\desktop\\ai testing course\\myenv312\\lib\\site-packages (from deepeval) (12.0)\n",
      "Requirement already satisfied: pytest-xdist in c:\\users\\13735\\onedrive - expleo france\\desktop\\ai testing course\\myenv312\\lib\\site-packages (from deepeval) (3.7.0)\n",
      "Requirement already satisfied: requests<3.0.0,>=2.31.0 in c:\\users\\13735\\onedrive - expleo france\\desktop\\ai testing course\\myenv312\\lib\\site-packages (from deepeval) (2.32.3)\n",
      "Requirement already satisfied: rich<14.0.0,>=13.6.0 in c:\\users\\13735\\onedrive - expleo france\\desktop\\ai testing course\\myenv312\\lib\\site-packages (from deepeval) (13.9.4)\n",
      "Requirement already satisfied: sentry-sdk in c:\\users\\13735\\onedrive - expleo france\\desktop\\ai testing course\\myenv312\\lib\\site-packages (from deepeval) (2.29.1)\n",
      "Requirement already satisfied: setuptools in c:\\users\\13735\\onedrive - expleo france\\desktop\\ai testing course\\myenv312\\lib\\site-packages (from deepeval) (80.9.0)\n",
      "Requirement already satisfied: tabulate<0.10.0,>=0.9.0 in c:\\users\\13735\\onedrive - expleo france\\desktop\\ai testing course\\myenv312\\lib\\site-packages (from deepeval) (0.9.0)\n",
      "Requirement already satisfied: tenacity<=9.0.0 in c:\\users\\13735\\onedrive - expleo france\\desktop\\ai testing course\\myenv312\\lib\\site-packages (from deepeval) (9.0.0)\n",
      "Requirement already satisfied: tqdm<5.0.0,>=4.66.1 in c:\\users\\13735\\onedrive - expleo france\\desktop\\ai testing course\\myenv312\\lib\\site-packages (from deepeval) (4.67.1)\n",
      "Requirement already satisfied: typer<1.0.0,>=0.9 in c:\\users\\13735\\onedrive - expleo france\\desktop\\ai testing course\\myenv312\\lib\\site-packages (from deepeval) (0.16.0)\n",
      "Requirement already satisfied: wheel in c:\\users\\13735\\onedrive - expleo france\\desktop\\ai testing course\\myenv312\\lib\\site-packages (from deepeval) (0.45.1)\n",
      "Requirement already satisfied: anyio<5,>=3.5.0 in c:\\users\\13735\\onedrive - expleo france\\desktop\\ai testing course\\myenv312\\lib\\site-packages (from anthropic<0.50.0,>=0.49.0->deepeval) (4.9.0)\n",
      "Requirement already satisfied: distro<2,>=1.7.0 in c:\\users\\13735\\onedrive - expleo france\\desktop\\ai testing course\\myenv312\\lib\\site-packages (from anthropic<0.50.0,>=0.49.0->deepeval) (1.9.0)\n",
      "Requirement already satisfied: httpx<1,>=0.23.0 in c:\\users\\13735\\onedrive - expleo france\\desktop\\ai testing course\\myenv312\\lib\\site-packages (from anthropic<0.50.0,>=0.49.0->deepeval) (0.28.1)\n",
      "Requirement already satisfied: jiter<1,>=0.4.0 in c:\\users\\13735\\onedrive - expleo france\\desktop\\ai testing course\\myenv312\\lib\\site-packages (from anthropic<0.50.0,>=0.49.0->deepeval) (0.10.0)\n",
      "Requirement already satisfied: pydantic<3,>=1.9.0 in c:\\users\\13735\\onedrive - expleo france\\desktop\\ai testing course\\myenv312\\lib\\site-packages (from anthropic<0.50.0,>=0.49.0->deepeval) (2.11.5)\n",
      "Requirement already satisfied: sniffio in c:\\users\\13735\\onedrive - expleo france\\desktop\\ai testing course\\myenv312\\lib\\site-packages (from anthropic<0.50.0,>=0.49.0->deepeval) (1.3.1)\n",
      "Requirement already satisfied: typing-extensions<5,>=4.10 in c:\\users\\13735\\onedrive - expleo france\\desktop\\ai testing course\\myenv312\\lib\\site-packages (from anthropic<0.50.0,>=0.49.0->deepeval) (4.14.0)\n",
      "Requirement already satisfied: colorama in c:\\users\\13735\\onedrive - expleo france\\desktop\\ai testing course\\myenv312\\lib\\site-packages (from click<8.2.0,>=8.0.0->deepeval) (0.4.6)\n",
      "Requirement already satisfied: google-auth<3.0.0,>=2.14.1 in c:\\users\\13735\\onedrive - expleo france\\desktop\\ai testing course\\myenv312\\lib\\site-packages (from google-genai<2.0.0,>=1.9.0->deepeval) (2.40.2)\n",
      "Requirement already satisfied: websockets<15.1.0,>=13.0.0 in c:\\users\\13735\\onedrive - expleo france\\desktop\\ai testing course\\myenv312\\lib\\site-packages (from google-genai<2.0.0,>=1.9.0->deepeval) (15.0.1)\n",
      "Requirement already satisfied: deprecated>=1.2.6 in c:\\users\\13735\\onedrive - expleo france\\desktop\\ai testing course\\myenv312\\lib\\site-packages (from opentelemetry-api<2.0.0,>=1.24.0->deepeval) (1.2.18)\n",
      "Requirement already satisfied: importlib-metadata<8.7.0,>=6.0 in c:\\users\\13735\\onedrive - expleo france\\desktop\\ai testing course\\myenv312\\lib\\site-packages (from opentelemetry-api<2.0.0,>=1.24.0->deepeval) (8.6.1)\n",
      "Requirement already satisfied: googleapis-common-protos~=1.52 in c:\\users\\13735\\onedrive - expleo france\\desktop\\ai testing course\\myenv312\\lib\\site-packages (from opentelemetry-exporter-otlp-proto-grpc<2.0.0,>=1.24.0->deepeval) (1.70.0)\n",
      "Requirement already satisfied: opentelemetry-exporter-otlp-proto-common==1.33.1 in c:\\users\\13735\\onedrive - expleo france\\desktop\\ai testing course\\myenv312\\lib\\site-packages (from opentelemetry-exporter-otlp-proto-grpc<2.0.0,>=1.24.0->deepeval) (1.33.1)\n",
      "Requirement already satisfied: opentelemetry-proto==1.33.1 in c:\\users\\13735\\onedrive - expleo france\\desktop\\ai testing course\\myenv312\\lib\\site-packages (from opentelemetry-exporter-otlp-proto-grpc<2.0.0,>=1.24.0->deepeval) (1.33.1)\n",
      "Requirement already satisfied: protobuf<6.0,>=5.0 in c:\\users\\13735\\onedrive - expleo france\\desktop\\ai testing course\\myenv312\\lib\\site-packages (from opentelemetry-proto==1.33.1->opentelemetry-exporter-otlp-proto-grpc<2.0.0,>=1.24.0->deepeval) (5.29.5)\n",
      "Requirement already satisfied: opentelemetry-semantic-conventions==0.54b1 in c:\\users\\13735\\onedrive - expleo france\\desktop\\ai testing course\\myenv312\\lib\\site-packages (from opentelemetry-sdk<2.0.0,>=1.24.0->deepeval) (0.54b1)\n",
      "Requirement already satisfied: six>=1.5 in c:\\users\\13735\\onedrive - expleo france\\desktop\\ai testing course\\myenv312\\lib\\site-packages (from posthog<4.0.0,>=3.23.0->deepeval) (1.17.0)\n",
      "Requirement already satisfied: monotonic>=1.5 in c:\\users\\13735\\onedrive - expleo france\\desktop\\ai testing course\\myenv312\\lib\\site-packages (from posthog<4.0.0,>=3.23.0->deepeval) (1.6)\n",
      "Requirement already satisfied: backoff>=1.10.0 in c:\\users\\13735\\onedrive - expleo france\\desktop\\ai testing course\\myenv312\\lib\\site-packages (from posthog<4.0.0,>=3.23.0->deepeval) (2.2.1)\n",
      "Requirement already satisfied: python-dateutil>2.1 in c:\\users\\13735\\onedrive - expleo france\\desktop\\ai testing course\\myenv312\\lib\\site-packages (from posthog<4.0.0,>=3.23.0->deepeval) (2.9.0.post0)\n",
      "Requirement already satisfied: packaging>=17.1 in c:\\users\\13735\\onedrive - expleo france\\desktop\\ai testing course\\myenv312\\lib\\site-packages (from pytest-rerunfailures<13.0,>=12.0->deepeval) (25.0)\n",
      "Requirement already satisfied: iniconfig>=1 in c:\\users\\13735\\onedrive - expleo france\\desktop\\ai testing course\\myenv312\\lib\\site-packages (from pytest->deepeval) (2.1.0)\n",
      "Requirement already satisfied: pluggy<2,>=1.5 in c:\\users\\13735\\onedrive - expleo france\\desktop\\ai testing course\\myenv312\\lib\\site-packages (from pytest->deepeval) (1.6.0)\n",
      "Requirement already satisfied: pygments>=2.7.2 in c:\\users\\13735\\onedrive - expleo france\\desktop\\ai testing course\\myenv312\\lib\\site-packages (from pytest->deepeval) (2.19.1)\n",
      "Requirement already satisfied: charset-normalizer<4,>=2 in c:\\users\\13735\\onedrive - expleo france\\desktop\\ai testing course\\myenv312\\lib\\site-packages (from requests<3.0.0,>=2.31.0->deepeval) (3.4.2)\n",
      "Requirement already satisfied: idna<4,>=2.5 in c:\\users\\13735\\onedrive - expleo france\\desktop\\ai testing course\\myenv312\\lib\\site-packages (from requests<3.0.0,>=2.31.0->deepeval) (3.10)\n",
      "Requirement already satisfied: urllib3<3,>=1.21.1 in c:\\users\\13735\\onedrive - expleo france\\desktop\\ai testing course\\myenv312\\lib\\site-packages (from requests<3.0.0,>=2.31.0->deepeval) (2.4.0)\n",
      "Requirement already satisfied: certifi>=2017.4.17 in c:\\users\\13735\\onedrive - expleo france\\desktop\\ai testing course\\myenv312\\lib\\site-packages (from requests<3.0.0,>=2.31.0->deepeval) (2025.4.26)\n",
      "Requirement already satisfied: markdown-it-py>=2.2.0 in c:\\users\\13735\\onedrive - expleo france\\desktop\\ai testing course\\myenv312\\lib\\site-packages (from rich<14.0.0,>=13.6.0->deepeval) (3.0.0)\n",
      "Requirement already satisfied: shellingham>=1.3.0 in c:\\users\\13735\\onedrive - expleo france\\desktop\\ai testing course\\myenv312\\lib\\site-packages (from typer<1.0.0,>=0.9->deepeval) (1.5.4)\n",
      "Requirement already satisfied: aiohappyeyeballs>=2.5.0 in c:\\users\\13735\\onedrive - expleo france\\desktop\\ai testing course\\myenv312\\lib\\site-packages (from aiohttp->deepeval) (2.6.1)\n",
      "Requirement already satisfied: aiosignal>=1.1.2 in c:\\users\\13735\\onedrive - expleo france\\desktop\\ai testing course\\myenv312\\lib\\site-packages (from aiohttp->deepeval) (1.3.2)\n",
      "Requirement already satisfied: attrs>=17.3.0 in c:\\users\\13735\\onedrive - expleo france\\desktop\\ai testing course\\myenv312\\lib\\site-packages (from aiohttp->deepeval) (25.3.0)\n",
      "Requirement already satisfied: frozenlist>=1.1.1 in c:\\users\\13735\\onedrive - expleo france\\desktop\\ai testing course\\myenv312\\lib\\site-packages (from aiohttp->deepeval) (1.6.0)\n",
      "Requirement already satisfied: multidict<7.0,>=4.5 in c:\\users\\13735\\onedrive - expleo france\\desktop\\ai testing course\\myenv312\\lib\\site-packages (from aiohttp->deepeval) (6.4.4)\n",
      "Requirement already satisfied: propcache>=0.2.0 in c:\\users\\13735\\onedrive - expleo france\\desktop\\ai testing course\\myenv312\\lib\\site-packages (from aiohttp->deepeval) (0.3.1)\n",
      "Requirement already satisfied: yarl<2.0,>=1.17.0 in c:\\users\\13735\\onedrive - expleo france\\desktop\\ai testing course\\myenv312\\lib\\site-packages (from aiohttp->deepeval) (1.20.0)\n",
      "Requirement already satisfied: pywin32>=226 in c:\\users\\13735\\onedrive - expleo france\\desktop\\ai testing course\\myenv312\\lib\\site-packages (from portalocker->deepeval) (310)\n",
      "Requirement already satisfied: execnet>=2.1 in c:\\users\\13735\\onedrive - expleo france\\desktop\\ai testing course\\myenv312\\lib\\site-packages (from pytest-xdist->deepeval) (2.1.1)\n",
      "Requirement already satisfied: wrapt<2,>=1.10 in c:\\users\\13735\\onedrive - expleo france\\desktop\\ai testing course\\myenv312\\lib\\site-packages (from deprecated>=1.2.6->opentelemetry-api<2.0.0,>=1.24.0->deepeval) (1.17.2)\n",
      "Requirement already satisfied: cachetools<6.0,>=2.0.0 in c:\\users\\13735\\onedrive - expleo france\\desktop\\ai testing course\\myenv312\\lib\\site-packages (from google-auth<3.0.0,>=2.14.1->google-genai<2.0.0,>=1.9.0->deepeval) (5.5.2)\n",
      "Requirement already satisfied: pyasn1-modules>=0.2.1 in c:\\users\\13735\\onedrive - expleo france\\desktop\\ai testing course\\myenv312\\lib\\site-packages (from google-auth<3.0.0,>=2.14.1->google-genai<2.0.0,>=1.9.0->deepeval) (0.4.2)\n",
      "Requirement already satisfied: rsa<5,>=3.1.4 in c:\\users\\13735\\onedrive - expleo france\\desktop\\ai testing course\\myenv312\\lib\\site-packages (from google-auth<3.0.0,>=2.14.1->google-genai<2.0.0,>=1.9.0->deepeval) (4.9.1)\n",
      "Requirement already satisfied: httpcore==1.* in c:\\users\\13735\\onedrive - expleo france\\desktop\\ai testing course\\myenv312\\lib\\site-packages (from httpx<1,>=0.23.0->anthropic<0.50.0,>=0.49.0->deepeval) (1.0.9)\n",
      "Requirement already satisfied: h11>=0.16 in c:\\users\\13735\\onedrive - expleo france\\desktop\\ai testing course\\myenv312\\lib\\site-packages (from httpcore==1.*->httpx<1,>=0.23.0->anthropic<0.50.0,>=0.49.0->deepeval) (0.16.0)\n",
      "Requirement already satisfied: zipp>=3.20 in c:\\users\\13735\\onedrive - expleo france\\desktop\\ai testing course\\myenv312\\lib\\site-packages (from importlib-metadata<8.7.0,>=6.0->opentelemetry-api<2.0.0,>=1.24.0->deepeval) (3.22.0)\n",
      "Requirement already satisfied: mdurl~=0.1 in c:\\users\\13735\\onedrive - expleo france\\desktop\\ai testing course\\myenv312\\lib\\site-packages (from markdown-it-py>=2.2.0->rich<14.0.0,>=13.6.0->deepeval) (0.1.2)\n",
      "Requirement already satisfied: annotated-types>=0.6.0 in c:\\users\\13735\\onedrive - expleo france\\desktop\\ai testing course\\myenv312\\lib\\site-packages (from pydantic<3,>=1.9.0->anthropic<0.50.0,>=0.49.0->deepeval) (0.7.0)\n",
      "Requirement already satisfied: pydantic-core==2.33.2 in c:\\users\\13735\\onedrive - expleo france\\desktop\\ai testing course\\myenv312\\lib\\site-packages (from pydantic<3,>=1.9.0->anthropic<0.50.0,>=0.49.0->deepeval) (2.33.2)\n",
      "Requirement already satisfied: typing-inspection>=0.4.0 in c:\\users\\13735\\onedrive - expleo france\\desktop\\ai testing course\\myenv312\\lib\\site-packages (from pydantic<3,>=1.9.0->anthropic<0.50.0,>=0.49.0->deepeval) (0.4.1)\n",
      "Requirement already satisfied: pyasn1<0.7.0,>=0.6.1 in c:\\users\\13735\\onedrive - expleo france\\desktop\\ai testing course\\myenv312\\lib\\site-packages (from pyasn1-modules>=0.2.1->google-auth<3.0.0,>=2.14.1->google-genai<2.0.0,>=1.9.0->deepeval) (0.6.1)\n",
      "Note: you may need to restart the kernel to use updated packages.\n"
     ]
    },
    {
     "data": {
      "text/html": [
       "<pre style=\"white-space:pre;overflow-x:auto;line-height:normal;font-family:Menlo,'DejaVu Sans Mono',consolas,'Courier New',monospace\">🎉🥳 Congratulations! You've successfully logged in! 🙌 \n",
       "</pre>\n"
      ],
      "text/plain": [
       "🎉🥳 Congratulations! You've successfully logged in! 🙌 \n"
      ]
     },
     "metadata": {},
     "output_type": "display_data"
    },
    {
     "name": "stdout",
     "output_type": "stream",
     "text": [
      "Login attempt completed.\n"
     ]
    }
   ],
   "source": [
    "# Install the deepeval module\n",
    "%pip install deepeval\n",
    "\n",
    "import deepeval\n",
    "\n",
    "# Login using the API key\n",
    "deepeval.login_with_confident_api_key(\"fcG9Vm+mtQ6ms6JbQ3eRE4Dfiq2xXLX9QMQMtaLWz8A=\")\n",
    "print(\"Login attempt completed.\")\n",
    "\n",
    "\n",
    "\n"
   ]
  },
  {
   "cell_type": "code",
   "execution_count": 20,
   "metadata": {},
   "outputs": [
    {
     "name": "stdout",
     "output_type": "stream",
     "text": [
      "Requirement already satisfied: python-dotenv in c:\\users\\13735\\onedrive - expleo france\\desktop\\ai testing course\\myenv312\\lib\\site-packages (1.1.1)\n",
      "Note: you may need to restart the kernel to use updated packages.\n"
     ]
    },
    {
     "name": "stderr",
     "output_type": "stream",
     "text": [
      "\n",
      "[notice] A new release of pip is available: 24.0 -> 25.1.1\n",
      "[notice] To update, run: python.exe -m pip install --upgrade pip\n"
     ]
    }
   ],
   "source": [
    "# Install the python-dotenv package\n",
    "%pip install python-dotenv\n",
    "\n",
    "from dotenv import load_dotenv\n",
    "\n",
    "load = load_dotenv(\"./../../.env\")"
   ]
  },
  {
   "cell_type": "markdown",
   "metadata": {},
   "source": [
    "Writing deep eval code"
   ]
  },
  {
   "cell_type": "markdown",
   "metadata": {},
   "source": [
    "Answer relevancy metric"
   ]
  },
  {
   "cell_type": "code",
   "execution_count": 24,
   "metadata": {},
   "outputs": [
    {
     "name": "stderr",
     "output_type": "stream",
     "text": [
      "\n",
      "[notice] A new release of pip is available: 24.0 -> 25.1.1\n",
      "[notice] To update, run: python.exe -m pip install --upgrade pip\n"
     ]
    },
    {
     "name": "stdout",
     "output_type": "stream",
     "text": [
      "Requirement already satisfied: deepeval in c:\\users\\13735\\onedrive - expleo france\\desktop\\ai testing course\\myenv312\\lib\\site-packages (3.0.3)\n",
      "Requirement already satisfied: aiohttp in c:\\users\\13735\\onedrive - expleo france\\desktop\\ai testing course\\myenv312\\lib\\site-packages (from deepeval) (3.12.7)\n",
      "Requirement already satisfied: anthropic<0.50.0,>=0.49.0 in c:\\users\\13735\\onedrive - expleo france\\desktop\\ai testing course\\myenv312\\lib\\site-packages (from deepeval) (0.49.0)\n",
      "Requirement already satisfied: click<8.2.0,>=8.0.0 in c:\\users\\13735\\onedrive - expleo france\\desktop\\ai testing course\\myenv312\\lib\\site-packages (from deepeval) (8.1.8)\n",
      "Requirement already satisfied: google-genai<2.0.0,>=1.9.0 in c:\\users\\13735\\onedrive - expleo france\\desktop\\ai testing course\\myenv312\\lib\\site-packages (from deepeval) (1.18.0)\n",
      "Requirement already satisfied: grpcio<2.0.0,>=1.67.1 in c:\\users\\13735\\onedrive - expleo france\\desktop\\ai testing course\\myenv312\\lib\\site-packages (from deepeval) (1.72.1)\n",
      "Requirement already satisfied: nest_asyncio in c:\\users\\13735\\onedrive - expleo france\\desktop\\ai testing course\\myenv312\\lib\\site-packages (from deepeval) (1.6.0)\n",
      "Requirement already satisfied: ollama in c:\\users\\13735\\onedrive - expleo france\\desktop\\ai testing course\\myenv312\\lib\\site-packages (from deepeval) (0.5.1)\n",
      "Requirement already satisfied: openai in c:\\users\\13735\\onedrive - expleo france\\desktop\\ai testing course\\myenv312\\lib\\site-packages (from deepeval) (1.83.0)\n",
      "Requirement already satisfied: opentelemetry-api<2.0.0,>=1.24.0 in c:\\users\\13735\\onedrive - expleo france\\desktop\\ai testing course\\myenv312\\lib\\site-packages (from deepeval) (1.33.1)\n",
      "Requirement already satisfied: opentelemetry-exporter-otlp-proto-grpc<2.0.0,>=1.24.0 in c:\\users\\13735\\onedrive - expleo france\\desktop\\ai testing course\\myenv312\\lib\\site-packages (from deepeval) (1.33.1)\n",
      "Requirement already satisfied: opentelemetry-sdk<2.0.0,>=1.24.0 in c:\\users\\13735\\onedrive - expleo france\\desktop\\ai testing course\\myenv312\\lib\\site-packages (from deepeval) (1.33.1)\n",
      "Requirement already satisfied: portalocker in c:\\users\\13735\\onedrive - expleo france\\desktop\\ai testing course\\myenv312\\lib\\site-packages (from deepeval) (3.1.1)\n",
      "Requirement already satisfied: posthog<4.0.0,>=3.23.0 in c:\\users\\13735\\onedrive - expleo france\\desktop\\ai testing course\\myenv312\\lib\\site-packages (from deepeval) (3.25.0)\n",
      "Requirement already satisfied: pytest in c:\\users\\13735\\onedrive - expleo france\\desktop\\ai testing course\\myenv312\\lib\\site-packages (from deepeval) (8.4.0)\n",
      "Requirement already satisfied: pytest-asyncio in c:\\users\\13735\\onedrive - expleo france\\desktop\\ai testing course\\myenv312\\lib\\site-packages (from deepeval) (1.0.0)\n",
      "Requirement already satisfied: pytest-repeat in c:\\users\\13735\\onedrive - expleo france\\desktop\\ai testing course\\myenv312\\lib\\site-packages (from deepeval) (0.9.4)\n",
      "Requirement already satisfied: pytest-rerunfailures<13.0,>=12.0 in c:\\users\\13735\\onedrive - expleo france\\desktop\\ai testing course\\myenv312\\lib\\site-packages (from deepeval) (12.0)\n",
      "Requirement already satisfied: pytest-xdist in c:\\users\\13735\\onedrive - expleo france\\desktop\\ai testing course\\myenv312\\lib\\site-packages (from deepeval) (3.7.0)\n",
      "Requirement already satisfied: requests<3.0.0,>=2.31.0 in c:\\users\\13735\\onedrive - expleo france\\desktop\\ai testing course\\myenv312\\lib\\site-packages (from deepeval) (2.32.3)\n",
      "Requirement already satisfied: rich<14.0.0,>=13.6.0 in c:\\users\\13735\\onedrive - expleo france\\desktop\\ai testing course\\myenv312\\lib\\site-packages (from deepeval) (13.9.4)\n",
      "Requirement already satisfied: sentry-sdk in c:\\users\\13735\\onedrive - expleo france\\desktop\\ai testing course\\myenv312\\lib\\site-packages (from deepeval) (2.29.1)\n",
      "Requirement already satisfied: setuptools in c:\\users\\13735\\onedrive - expleo france\\desktop\\ai testing course\\myenv312\\lib\\site-packages (from deepeval) (80.9.0)\n",
      "Requirement already satisfied: tabulate<0.10.0,>=0.9.0 in c:\\users\\13735\\onedrive - expleo france\\desktop\\ai testing course\\myenv312\\lib\\site-packages (from deepeval) (0.9.0)\n",
      "Requirement already satisfied: tenacity<=9.0.0 in c:\\users\\13735\\onedrive - expleo france\\desktop\\ai testing course\\myenv312\\lib\\site-packages (from deepeval) (9.0.0)\n",
      "Requirement already satisfied: tqdm<5.0.0,>=4.66.1 in c:\\users\\13735\\onedrive - expleo france\\desktop\\ai testing course\\myenv312\\lib\\site-packages (from deepeval) (4.67.1)\n",
      "Requirement already satisfied: typer<1.0.0,>=0.9 in c:\\users\\13735\\onedrive - expleo france\\desktop\\ai testing course\\myenv312\\lib\\site-packages (from deepeval) (0.16.0)\n",
      "Requirement already satisfied: wheel in c:\\users\\13735\\onedrive - expleo france\\desktop\\ai testing course\\myenv312\\lib\\site-packages (from deepeval) (0.45.1)\n",
      "Requirement already satisfied: anyio<5,>=3.5.0 in c:\\users\\13735\\onedrive - expleo france\\desktop\\ai testing course\\myenv312\\lib\\site-packages (from anthropic<0.50.0,>=0.49.0->deepeval) (4.9.0)\n",
      "Requirement already satisfied: distro<2,>=1.7.0 in c:\\users\\13735\\onedrive - expleo france\\desktop\\ai testing course\\myenv312\\lib\\site-packages (from anthropic<0.50.0,>=0.49.0->deepeval) (1.9.0)\n",
      "Requirement already satisfied: httpx<1,>=0.23.0 in c:\\users\\13735\\onedrive - expleo france\\desktop\\ai testing course\\myenv312\\lib\\site-packages (from anthropic<0.50.0,>=0.49.0->deepeval) (0.28.1)\n",
      "Requirement already satisfied: jiter<1,>=0.4.0 in c:\\users\\13735\\onedrive - expleo france\\desktop\\ai testing course\\myenv312\\lib\\site-packages (from anthropic<0.50.0,>=0.49.0->deepeval) (0.10.0)\n",
      "Requirement already satisfied: pydantic<3,>=1.9.0 in c:\\users\\13735\\onedrive - expleo france\\desktop\\ai testing course\\myenv312\\lib\\site-packages (from anthropic<0.50.0,>=0.49.0->deepeval) (2.11.5)\n",
      "Requirement already satisfied: sniffio in c:\\users\\13735\\onedrive - expleo france\\desktop\\ai testing course\\myenv312\\lib\\site-packages (from anthropic<0.50.0,>=0.49.0->deepeval) (1.3.1)\n",
      "Requirement already satisfied: typing-extensions<5,>=4.10 in c:\\users\\13735\\onedrive - expleo france\\desktop\\ai testing course\\myenv312\\lib\\site-packages (from anthropic<0.50.0,>=0.49.0->deepeval) (4.14.0)\n",
      "Requirement already satisfied: colorama in c:\\users\\13735\\onedrive - expleo france\\desktop\\ai testing course\\myenv312\\lib\\site-packages (from click<8.2.0,>=8.0.0->deepeval) (0.4.6)\n",
      "Requirement already satisfied: google-auth<3.0.0,>=2.14.1 in c:\\users\\13735\\onedrive - expleo france\\desktop\\ai testing course\\myenv312\\lib\\site-packages (from google-genai<2.0.0,>=1.9.0->deepeval) (2.40.2)\n",
      "Requirement already satisfied: websockets<15.1.0,>=13.0.0 in c:\\users\\13735\\onedrive - expleo france\\desktop\\ai testing course\\myenv312\\lib\\site-packages (from google-genai<2.0.0,>=1.9.0->deepeval) (15.0.1)\n",
      "Requirement already satisfied: deprecated>=1.2.6 in c:\\users\\13735\\onedrive - expleo france\\desktop\\ai testing course\\myenv312\\lib\\site-packages (from opentelemetry-api<2.0.0,>=1.24.0->deepeval) (1.2.18)\n",
      "Requirement already satisfied: importlib-metadata<8.7.0,>=6.0 in c:\\users\\13735\\onedrive - expleo france\\desktop\\ai testing course\\myenv312\\lib\\site-packages (from opentelemetry-api<2.0.0,>=1.24.0->deepeval) (8.6.1)\n",
      "Requirement already satisfied: googleapis-common-protos~=1.52 in c:\\users\\13735\\onedrive - expleo france\\desktop\\ai testing course\\myenv312\\lib\\site-packages (from opentelemetry-exporter-otlp-proto-grpc<2.0.0,>=1.24.0->deepeval) (1.70.0)\n",
      "Requirement already satisfied: opentelemetry-exporter-otlp-proto-common==1.33.1 in c:\\users\\13735\\onedrive - expleo france\\desktop\\ai testing course\\myenv312\\lib\\site-packages (from opentelemetry-exporter-otlp-proto-grpc<2.0.0,>=1.24.0->deepeval) (1.33.1)\n",
      "Requirement already satisfied: opentelemetry-proto==1.33.1 in c:\\users\\13735\\onedrive - expleo france\\desktop\\ai testing course\\myenv312\\lib\\site-packages (from opentelemetry-exporter-otlp-proto-grpc<2.0.0,>=1.24.0->deepeval) (1.33.1)\n",
      "Requirement already satisfied: protobuf<6.0,>=5.0 in c:\\users\\13735\\onedrive - expleo france\\desktop\\ai testing course\\myenv312\\lib\\site-packages (from opentelemetry-proto==1.33.1->opentelemetry-exporter-otlp-proto-grpc<2.0.0,>=1.24.0->deepeval) (5.29.5)\n",
      "Requirement already satisfied: opentelemetry-semantic-conventions==0.54b1 in c:\\users\\13735\\onedrive - expleo france\\desktop\\ai testing course\\myenv312\\lib\\site-packages (from opentelemetry-sdk<2.0.0,>=1.24.0->deepeval) (0.54b1)\n",
      "Requirement already satisfied: six>=1.5 in c:\\users\\13735\\onedrive - expleo france\\desktop\\ai testing course\\myenv312\\lib\\site-packages (from posthog<4.0.0,>=3.23.0->deepeval) (1.17.0)\n",
      "Requirement already satisfied: monotonic>=1.5 in c:\\users\\13735\\onedrive - expleo france\\desktop\\ai testing course\\myenv312\\lib\\site-packages (from posthog<4.0.0,>=3.23.0->deepeval) (1.6)\n",
      "Requirement already satisfied: backoff>=1.10.0 in c:\\users\\13735\\onedrive - expleo france\\desktop\\ai testing course\\myenv312\\lib\\site-packages (from posthog<4.0.0,>=3.23.0->deepeval) (2.2.1)\n",
      "Requirement already satisfied: python-dateutil>2.1 in c:\\users\\13735\\onedrive - expleo france\\desktop\\ai testing course\\myenv312\\lib\\site-packages (from posthog<4.0.0,>=3.23.0->deepeval) (2.9.0.post0)\n",
      "Requirement already satisfied: packaging>=17.1 in c:\\users\\13735\\onedrive - expleo france\\desktop\\ai testing course\\myenv312\\lib\\site-packages (from pytest-rerunfailures<13.0,>=12.0->deepeval) (25.0)\n",
      "Requirement already satisfied: iniconfig>=1 in c:\\users\\13735\\onedrive - expleo france\\desktop\\ai testing course\\myenv312\\lib\\site-packages (from pytest->deepeval) (2.1.0)\n",
      "Requirement already satisfied: pluggy<2,>=1.5 in c:\\users\\13735\\onedrive - expleo france\\desktop\\ai testing course\\myenv312\\lib\\site-packages (from pytest->deepeval) (1.6.0)\n",
      "Requirement already satisfied: pygments>=2.7.2 in c:\\users\\13735\\onedrive - expleo france\\desktop\\ai testing course\\myenv312\\lib\\site-packages (from pytest->deepeval) (2.19.1)\n",
      "Requirement already satisfied: charset-normalizer<4,>=2 in c:\\users\\13735\\onedrive - expleo france\\desktop\\ai testing course\\myenv312\\lib\\site-packages (from requests<3.0.0,>=2.31.0->deepeval) (3.4.2)\n",
      "Requirement already satisfied: idna<4,>=2.5 in c:\\users\\13735\\onedrive - expleo france\\desktop\\ai testing course\\myenv312\\lib\\site-packages (from requests<3.0.0,>=2.31.0->deepeval) (3.10)\n",
      "Requirement already satisfied: urllib3<3,>=1.21.1 in c:\\users\\13735\\onedrive - expleo france\\desktop\\ai testing course\\myenv312\\lib\\site-packages (from requests<3.0.0,>=2.31.0->deepeval) (2.4.0)\n",
      "Requirement already satisfied: certifi>=2017.4.17 in c:\\users\\13735\\onedrive - expleo france\\desktop\\ai testing course\\myenv312\\lib\\site-packages (from requests<3.0.0,>=2.31.0->deepeval) (2025.4.26)\n",
      "Requirement already satisfied: markdown-it-py>=2.2.0 in c:\\users\\13735\\onedrive - expleo france\\desktop\\ai testing course\\myenv312\\lib\\site-packages (from rich<14.0.0,>=13.6.0->deepeval) (3.0.0)\n",
      "Requirement already satisfied: shellingham>=1.3.0 in c:\\users\\13735\\onedrive - expleo france\\desktop\\ai testing course\\myenv312\\lib\\site-packages (from typer<1.0.0,>=0.9->deepeval) (1.5.4)\n",
      "Requirement already satisfied: aiohappyeyeballs>=2.5.0 in c:\\users\\13735\\onedrive - expleo france\\desktop\\ai testing course\\myenv312\\lib\\site-packages (from aiohttp->deepeval) (2.6.1)\n",
      "Requirement already satisfied: aiosignal>=1.1.2 in c:\\users\\13735\\onedrive - expleo france\\desktop\\ai testing course\\myenv312\\lib\\site-packages (from aiohttp->deepeval) (1.3.2)\n",
      "Requirement already satisfied: attrs>=17.3.0 in c:\\users\\13735\\onedrive - expleo france\\desktop\\ai testing course\\myenv312\\lib\\site-packages (from aiohttp->deepeval) (25.3.0)\n",
      "Requirement already satisfied: frozenlist>=1.1.1 in c:\\users\\13735\\onedrive - expleo france\\desktop\\ai testing course\\myenv312\\lib\\site-packages (from aiohttp->deepeval) (1.6.0)\n",
      "Requirement already satisfied: multidict<7.0,>=4.5 in c:\\users\\13735\\onedrive - expleo france\\desktop\\ai testing course\\myenv312\\lib\\site-packages (from aiohttp->deepeval) (6.4.4)\n",
      "Requirement already satisfied: propcache>=0.2.0 in c:\\users\\13735\\onedrive - expleo france\\desktop\\ai testing course\\myenv312\\lib\\site-packages (from aiohttp->deepeval) (0.3.1)\n",
      "Requirement already satisfied: yarl<2.0,>=1.17.0 in c:\\users\\13735\\onedrive - expleo france\\desktop\\ai testing course\\myenv312\\lib\\site-packages (from aiohttp->deepeval) (1.20.0)\n",
      "Requirement already satisfied: pywin32>=226 in c:\\users\\13735\\onedrive - expleo france\\desktop\\ai testing course\\myenv312\\lib\\site-packages (from portalocker->deepeval) (310)\n",
      "Requirement already satisfied: execnet>=2.1 in c:\\users\\13735\\onedrive - expleo france\\desktop\\ai testing course\\myenv312\\lib\\site-packages (from pytest-xdist->deepeval) (2.1.1)\n",
      "Requirement already satisfied: wrapt<2,>=1.10 in c:\\users\\13735\\onedrive - expleo france\\desktop\\ai testing course\\myenv312\\lib\\site-packages (from deprecated>=1.2.6->opentelemetry-api<2.0.0,>=1.24.0->deepeval) (1.17.2)\n",
      "Requirement already satisfied: cachetools<6.0,>=2.0.0 in c:\\users\\13735\\onedrive - expleo france\\desktop\\ai testing course\\myenv312\\lib\\site-packages (from google-auth<3.0.0,>=2.14.1->google-genai<2.0.0,>=1.9.0->deepeval) (5.5.2)\n",
      "Requirement already satisfied: pyasn1-modules>=0.2.1 in c:\\users\\13735\\onedrive - expleo france\\desktop\\ai testing course\\myenv312\\lib\\site-packages (from google-auth<3.0.0,>=2.14.1->google-genai<2.0.0,>=1.9.0->deepeval) (0.4.2)\n",
      "Requirement already satisfied: rsa<5,>=3.1.4 in c:\\users\\13735\\onedrive - expleo france\\desktop\\ai testing course\\myenv312\\lib\\site-packages (from google-auth<3.0.0,>=2.14.1->google-genai<2.0.0,>=1.9.0->deepeval) (4.9.1)\n",
      "Requirement already satisfied: httpcore==1.* in c:\\users\\13735\\onedrive - expleo france\\desktop\\ai testing course\\myenv312\\lib\\site-packages (from httpx<1,>=0.23.0->anthropic<0.50.0,>=0.49.0->deepeval) (1.0.9)\n",
      "Requirement already satisfied: h11>=0.16 in c:\\users\\13735\\onedrive - expleo france\\desktop\\ai testing course\\myenv312\\lib\\site-packages (from httpcore==1.*->httpx<1,>=0.23.0->anthropic<0.50.0,>=0.49.0->deepeval) (0.16.0)\n",
      "Requirement already satisfied: zipp>=3.20 in c:\\users\\13735\\onedrive - expleo france\\desktop\\ai testing course\\myenv312\\lib\\site-packages (from importlib-metadata<8.7.0,>=6.0->opentelemetry-api<2.0.0,>=1.24.0->deepeval) (3.22.0)\n",
      "Requirement already satisfied: mdurl~=0.1 in c:\\users\\13735\\onedrive - expleo france\\desktop\\ai testing course\\myenv312\\lib\\site-packages (from markdown-it-py>=2.2.0->rich<14.0.0,>=13.6.0->deepeval) (0.1.2)\n",
      "Requirement already satisfied: annotated-types>=0.6.0 in c:\\users\\13735\\onedrive - expleo france\\desktop\\ai testing course\\myenv312\\lib\\site-packages (from pydantic<3,>=1.9.0->anthropic<0.50.0,>=0.49.0->deepeval) (0.7.0)\n",
      "Requirement already satisfied: pydantic-core==2.33.2 in c:\\users\\13735\\onedrive - expleo france\\desktop\\ai testing course\\myenv312\\lib\\site-packages (from pydantic<3,>=1.9.0->anthropic<0.50.0,>=0.49.0->deepeval) (2.33.2)\n",
      "Requirement already satisfied: typing-inspection>=0.4.0 in c:\\users\\13735\\onedrive - expleo france\\desktop\\ai testing course\\myenv312\\lib\\site-packages (from pydantic<3,>=1.9.0->anthropic<0.50.0,>=0.49.0->deepeval) (0.4.1)\n",
      "Requirement already satisfied: pyasn1<0.7.0,>=0.6.1 in c:\\users\\13735\\onedrive - expleo france\\desktop\\ai testing course\\myenv312\\lib\\site-packages (from pyasn1-modules>=0.2.1->google-auth<3.0.0,>=2.14.1->google-genai<2.0.0,>=1.9.0->deepeval) (0.6.1)\n",
      "Note: you may need to restart the kernel to use updated packages.\n"
     ]
    },
    {
     "data": {
      "text/html": [
       "<pre style=\"white-space:pre;overflow-x:auto;line-height:normal;font-family:Menlo,'DejaVu Sans Mono',consolas,'Courier New',monospace\"></pre>\n"
      ],
      "text/plain": []
     },
     "metadata": {},
     "output_type": "display_data"
    },
    {
     "name": "stdout",
     "output_type": "stream",
     "text": [
      "0.0\n"
     ]
    }
   ],
   "source": [
    "# Ensure the deepeval package is installed\n",
    "%pip install deepeval\n",
    "\n",
    "from deepeval.test_case import LLMTestCase\n",
    "from deepeval.metrics import AnswerRelevancyMetric\n",
    "\n",
    "answer_relevancy_metric = AnswerRelevancyMetric()\n",
    "test_case = LLMTestCase(\n",
    "    input=\"Who is the current president of the United States?\",\n",
    "    actual_output=\"Joe Biden\",\n",
    "    retrieval_context=[\"joe biden serve as the current president of the united states since january 20, 2021.\"],\n",
    ")\n",
    "answer_relevancy_metric.measure(test_case)\n",
    "print(answer_relevancy_metric.score)"
   ]
  },
  {
   "cell_type": "markdown",
   "metadata": {},
   "source": [
    "Contextual precision metric [not so good]"
   ]
  },
  {
   "cell_type": "code",
   "execution_count": 32,
   "metadata": {},
   "outputs": [
    {
     "name": "stderr",
     "output_type": "stream",
     "text": [
      "\n",
      "[notice] A new release of pip is available: 24.0 -> 25.1.1\n",
      "[notice] To update, run: python.exe -m pip install --upgrade pip\n"
     ]
    },
    {
     "name": "stdout",
     "output_type": "stream",
     "text": [
      "Requirement already satisfied: deepeval in c:\\users\\13735\\onedrive - expleo france\\desktop\\ai testing course\\myenv312\\lib\\site-packages (3.0.3)\n",
      "Requirement already satisfied: aiohttp in c:\\users\\13735\\onedrive - expleo france\\desktop\\ai testing course\\myenv312\\lib\\site-packages (from deepeval) (3.12.7)\n",
      "Requirement already satisfied: anthropic<0.50.0,>=0.49.0 in c:\\users\\13735\\onedrive - expleo france\\desktop\\ai testing course\\myenv312\\lib\\site-packages (from deepeval) (0.49.0)\n",
      "Requirement already satisfied: click<8.2.0,>=8.0.0 in c:\\users\\13735\\onedrive - expleo france\\desktop\\ai testing course\\myenv312\\lib\\site-packages (from deepeval) (8.1.8)\n",
      "Requirement already satisfied: google-genai<2.0.0,>=1.9.0 in c:\\users\\13735\\onedrive - expleo france\\desktop\\ai testing course\\myenv312\\lib\\site-packages (from deepeval) (1.18.0)\n",
      "Requirement already satisfied: grpcio<2.0.0,>=1.67.1 in c:\\users\\13735\\onedrive - expleo france\\desktop\\ai testing course\\myenv312\\lib\\site-packages (from deepeval) (1.72.1)\n",
      "Requirement already satisfied: nest_asyncio in c:\\users\\13735\\onedrive - expleo france\\desktop\\ai testing course\\myenv312\\lib\\site-packages (from deepeval) (1.6.0)\n",
      "Requirement already satisfied: ollama in c:\\users\\13735\\onedrive - expleo france\\desktop\\ai testing course\\myenv312\\lib\\site-packages (from deepeval) (0.5.1)\n",
      "Requirement already satisfied: openai in c:\\users\\13735\\onedrive - expleo france\\desktop\\ai testing course\\myenv312\\lib\\site-packages (from deepeval) (1.83.0)\n",
      "Requirement already satisfied: opentelemetry-api<2.0.0,>=1.24.0 in c:\\users\\13735\\onedrive - expleo france\\desktop\\ai testing course\\myenv312\\lib\\site-packages (from deepeval) (1.33.1)\n",
      "Requirement already satisfied: opentelemetry-exporter-otlp-proto-grpc<2.0.0,>=1.24.0 in c:\\users\\13735\\onedrive - expleo france\\desktop\\ai testing course\\myenv312\\lib\\site-packages (from deepeval) (1.33.1)\n",
      "Requirement already satisfied: opentelemetry-sdk<2.0.0,>=1.24.0 in c:\\users\\13735\\onedrive - expleo france\\desktop\\ai testing course\\myenv312\\lib\\site-packages (from deepeval) (1.33.1)\n",
      "Requirement already satisfied: portalocker in c:\\users\\13735\\onedrive - expleo france\\desktop\\ai testing course\\myenv312\\lib\\site-packages (from deepeval) (3.1.1)\n",
      "Requirement already satisfied: posthog<4.0.0,>=3.23.0 in c:\\users\\13735\\onedrive - expleo france\\desktop\\ai testing course\\myenv312\\lib\\site-packages (from deepeval) (3.25.0)\n",
      "Requirement already satisfied: pytest in c:\\users\\13735\\onedrive - expleo france\\desktop\\ai testing course\\myenv312\\lib\\site-packages (from deepeval) (8.4.0)\n",
      "Requirement already satisfied: pytest-asyncio in c:\\users\\13735\\onedrive - expleo france\\desktop\\ai testing course\\myenv312\\lib\\site-packages (from deepeval) (1.0.0)\n",
      "Requirement already satisfied: pytest-repeat in c:\\users\\13735\\onedrive - expleo france\\desktop\\ai testing course\\myenv312\\lib\\site-packages (from deepeval) (0.9.4)\n",
      "Requirement already satisfied: pytest-rerunfailures<13.0,>=12.0 in c:\\users\\13735\\onedrive - expleo france\\desktop\\ai testing course\\myenv312\\lib\\site-packages (from deepeval) (12.0)\n",
      "Requirement already satisfied: pytest-xdist in c:\\users\\13735\\onedrive - expleo france\\desktop\\ai testing course\\myenv312\\lib\\site-packages (from deepeval) (3.7.0)\n",
      "Requirement already satisfied: requests<3.0.0,>=2.31.0 in c:\\users\\13735\\onedrive - expleo france\\desktop\\ai testing course\\myenv312\\lib\\site-packages (from deepeval) (2.32.3)\n",
      "Requirement already satisfied: rich<14.0.0,>=13.6.0 in c:\\users\\13735\\onedrive - expleo france\\desktop\\ai testing course\\myenv312\\lib\\site-packages (from deepeval) (13.9.4)\n",
      "Requirement already satisfied: sentry-sdk in c:\\users\\13735\\onedrive - expleo france\\desktop\\ai testing course\\myenv312\\lib\\site-packages (from deepeval) (2.29.1)\n",
      "Requirement already satisfied: setuptools in c:\\users\\13735\\onedrive - expleo france\\desktop\\ai testing course\\myenv312\\lib\\site-packages (from deepeval) (80.9.0)\n",
      "Requirement already satisfied: tabulate<0.10.0,>=0.9.0 in c:\\users\\13735\\onedrive - expleo france\\desktop\\ai testing course\\myenv312\\lib\\site-packages (from deepeval) (0.9.0)\n",
      "Requirement already satisfied: tenacity<=9.0.0 in c:\\users\\13735\\onedrive - expleo france\\desktop\\ai testing course\\myenv312\\lib\\site-packages (from deepeval) (9.0.0)\n",
      "Requirement already satisfied: tqdm<5.0.0,>=4.66.1 in c:\\users\\13735\\onedrive - expleo france\\desktop\\ai testing course\\myenv312\\lib\\site-packages (from deepeval) (4.67.1)\n",
      "Requirement already satisfied: typer<1.0.0,>=0.9 in c:\\users\\13735\\onedrive - expleo france\\desktop\\ai testing course\\myenv312\\lib\\site-packages (from deepeval) (0.16.0)\n",
      "Requirement already satisfied: wheel in c:\\users\\13735\\onedrive - expleo france\\desktop\\ai testing course\\myenv312\\lib\\site-packages (from deepeval) (0.45.1)\n",
      "Requirement already satisfied: anyio<5,>=3.5.0 in c:\\users\\13735\\onedrive - expleo france\\desktop\\ai testing course\\myenv312\\lib\\site-packages (from anthropic<0.50.0,>=0.49.0->deepeval) (4.9.0)\n",
      "Requirement already satisfied: distro<2,>=1.7.0 in c:\\users\\13735\\onedrive - expleo france\\desktop\\ai testing course\\myenv312\\lib\\site-packages (from anthropic<0.50.0,>=0.49.0->deepeval) (1.9.0)\n",
      "Requirement already satisfied: httpx<1,>=0.23.0 in c:\\users\\13735\\onedrive - expleo france\\desktop\\ai testing course\\myenv312\\lib\\site-packages (from anthropic<0.50.0,>=0.49.0->deepeval) (0.28.1)\n",
      "Requirement already satisfied: jiter<1,>=0.4.0 in c:\\users\\13735\\onedrive - expleo france\\desktop\\ai testing course\\myenv312\\lib\\site-packages (from anthropic<0.50.0,>=0.49.0->deepeval) (0.10.0)\n",
      "Requirement already satisfied: pydantic<3,>=1.9.0 in c:\\users\\13735\\onedrive - expleo france\\desktop\\ai testing course\\myenv312\\lib\\site-packages (from anthropic<0.50.0,>=0.49.0->deepeval) (2.11.5)\n",
      "Requirement already satisfied: sniffio in c:\\users\\13735\\onedrive - expleo france\\desktop\\ai testing course\\myenv312\\lib\\site-packages (from anthropic<0.50.0,>=0.49.0->deepeval) (1.3.1)\n",
      "Requirement already satisfied: typing-extensions<5,>=4.10 in c:\\users\\13735\\onedrive - expleo france\\desktop\\ai testing course\\myenv312\\lib\\site-packages (from anthropic<0.50.0,>=0.49.0->deepeval) (4.14.0)\n",
      "Requirement already satisfied: colorama in c:\\users\\13735\\onedrive - expleo france\\desktop\\ai testing course\\myenv312\\lib\\site-packages (from click<8.2.0,>=8.0.0->deepeval) (0.4.6)\n",
      "Requirement already satisfied: google-auth<3.0.0,>=2.14.1 in c:\\users\\13735\\onedrive - expleo france\\desktop\\ai testing course\\myenv312\\lib\\site-packages (from google-genai<2.0.0,>=1.9.0->deepeval) (2.40.2)\n",
      "Requirement already satisfied: websockets<15.1.0,>=13.0.0 in c:\\users\\13735\\onedrive - expleo france\\desktop\\ai testing course\\myenv312\\lib\\site-packages (from google-genai<2.0.0,>=1.9.0->deepeval) (15.0.1)\n",
      "Requirement already satisfied: deprecated>=1.2.6 in c:\\users\\13735\\onedrive - expleo france\\desktop\\ai testing course\\myenv312\\lib\\site-packages (from opentelemetry-api<2.0.0,>=1.24.0->deepeval) (1.2.18)\n",
      "Requirement already satisfied: importlib-metadata<8.7.0,>=6.0 in c:\\users\\13735\\onedrive - expleo france\\desktop\\ai testing course\\myenv312\\lib\\site-packages (from opentelemetry-api<2.0.0,>=1.24.0->deepeval) (8.6.1)\n",
      "Requirement already satisfied: googleapis-common-protos~=1.52 in c:\\users\\13735\\onedrive - expleo france\\desktop\\ai testing course\\myenv312\\lib\\site-packages (from opentelemetry-exporter-otlp-proto-grpc<2.0.0,>=1.24.0->deepeval) (1.70.0)\n",
      "Requirement already satisfied: opentelemetry-exporter-otlp-proto-common==1.33.1 in c:\\users\\13735\\onedrive - expleo france\\desktop\\ai testing course\\myenv312\\lib\\site-packages (from opentelemetry-exporter-otlp-proto-grpc<2.0.0,>=1.24.0->deepeval) (1.33.1)\n",
      "Requirement already satisfied: opentelemetry-proto==1.33.1 in c:\\users\\13735\\onedrive - expleo france\\desktop\\ai testing course\\myenv312\\lib\\site-packages (from opentelemetry-exporter-otlp-proto-grpc<2.0.0,>=1.24.0->deepeval) (1.33.1)\n",
      "Requirement already satisfied: protobuf<6.0,>=5.0 in c:\\users\\13735\\onedrive - expleo france\\desktop\\ai testing course\\myenv312\\lib\\site-packages (from opentelemetry-proto==1.33.1->opentelemetry-exporter-otlp-proto-grpc<2.0.0,>=1.24.0->deepeval) (5.29.5)\n",
      "Requirement already satisfied: opentelemetry-semantic-conventions==0.54b1 in c:\\users\\13735\\onedrive - expleo france\\desktop\\ai testing course\\myenv312\\lib\\site-packages (from opentelemetry-sdk<2.0.0,>=1.24.0->deepeval) (0.54b1)\n",
      "Requirement already satisfied: six>=1.5 in c:\\users\\13735\\onedrive - expleo france\\desktop\\ai testing course\\myenv312\\lib\\site-packages (from posthog<4.0.0,>=3.23.0->deepeval) (1.17.0)\n",
      "Requirement already satisfied: monotonic>=1.5 in c:\\users\\13735\\onedrive - expleo france\\desktop\\ai testing course\\myenv312\\lib\\site-packages (from posthog<4.0.0,>=3.23.0->deepeval) (1.6)\n",
      "Requirement already satisfied: backoff>=1.10.0 in c:\\users\\13735\\onedrive - expleo france\\desktop\\ai testing course\\myenv312\\lib\\site-packages (from posthog<4.0.0,>=3.23.0->deepeval) (2.2.1)\n",
      "Requirement already satisfied: python-dateutil>2.1 in c:\\users\\13735\\onedrive - expleo france\\desktop\\ai testing course\\myenv312\\lib\\site-packages (from posthog<4.0.0,>=3.23.0->deepeval) (2.9.0.post0)\n",
      "Requirement already satisfied: packaging>=17.1 in c:\\users\\13735\\onedrive - expleo france\\desktop\\ai testing course\\myenv312\\lib\\site-packages (from pytest-rerunfailures<13.0,>=12.0->deepeval) (25.0)\n",
      "Requirement already satisfied: iniconfig>=1 in c:\\users\\13735\\onedrive - expleo france\\desktop\\ai testing course\\myenv312\\lib\\site-packages (from pytest->deepeval) (2.1.0)\n",
      "Requirement already satisfied: pluggy<2,>=1.5 in c:\\users\\13735\\onedrive - expleo france\\desktop\\ai testing course\\myenv312\\lib\\site-packages (from pytest->deepeval) (1.6.0)\n",
      "Requirement already satisfied: pygments>=2.7.2 in c:\\users\\13735\\onedrive - expleo france\\desktop\\ai testing course\\myenv312\\lib\\site-packages (from pytest->deepeval) (2.19.1)\n",
      "Requirement already satisfied: charset-normalizer<4,>=2 in c:\\users\\13735\\onedrive - expleo france\\desktop\\ai testing course\\myenv312\\lib\\site-packages (from requests<3.0.0,>=2.31.0->deepeval) (3.4.2)\n",
      "Requirement already satisfied: idna<4,>=2.5 in c:\\users\\13735\\onedrive - expleo france\\desktop\\ai testing course\\myenv312\\lib\\site-packages (from requests<3.0.0,>=2.31.0->deepeval) (3.10)\n",
      "Requirement already satisfied: urllib3<3,>=1.21.1 in c:\\users\\13735\\onedrive - expleo france\\desktop\\ai testing course\\myenv312\\lib\\site-packages (from requests<3.0.0,>=2.31.0->deepeval) (2.4.0)\n",
      "Requirement already satisfied: certifi>=2017.4.17 in c:\\users\\13735\\onedrive - expleo france\\desktop\\ai testing course\\myenv312\\lib\\site-packages (from requests<3.0.0,>=2.31.0->deepeval) (2025.4.26)\n",
      "Requirement already satisfied: markdown-it-py>=2.2.0 in c:\\users\\13735\\onedrive - expleo france\\desktop\\ai testing course\\myenv312\\lib\\site-packages (from rich<14.0.0,>=13.6.0->deepeval) (3.0.0)\n",
      "Requirement already satisfied: shellingham>=1.3.0 in c:\\users\\13735\\onedrive - expleo france\\desktop\\ai testing course\\myenv312\\lib\\site-packages (from typer<1.0.0,>=0.9->deepeval) (1.5.4)\n",
      "Requirement already satisfied: aiohappyeyeballs>=2.5.0 in c:\\users\\13735\\onedrive - expleo france\\desktop\\ai testing course\\myenv312\\lib\\site-packages (from aiohttp->deepeval) (2.6.1)\n",
      "Requirement already satisfied: aiosignal>=1.1.2 in c:\\users\\13735\\onedrive - expleo france\\desktop\\ai testing course\\myenv312\\lib\\site-packages (from aiohttp->deepeval) (1.3.2)\n",
      "Requirement already satisfied: attrs>=17.3.0 in c:\\users\\13735\\onedrive - expleo france\\desktop\\ai testing course\\myenv312\\lib\\site-packages (from aiohttp->deepeval) (25.3.0)\n",
      "Requirement already satisfied: frozenlist>=1.1.1 in c:\\users\\13735\\onedrive - expleo france\\desktop\\ai testing course\\myenv312\\lib\\site-packages (from aiohttp->deepeval) (1.6.0)\n",
      "Requirement already satisfied: multidict<7.0,>=4.5 in c:\\users\\13735\\onedrive - expleo france\\desktop\\ai testing course\\myenv312\\lib\\site-packages (from aiohttp->deepeval) (6.4.4)\n",
      "Requirement already satisfied: propcache>=0.2.0 in c:\\users\\13735\\onedrive - expleo france\\desktop\\ai testing course\\myenv312\\lib\\site-packages (from aiohttp->deepeval) (0.3.1)\n",
      "Requirement already satisfied: yarl<2.0,>=1.17.0 in c:\\users\\13735\\onedrive - expleo france\\desktop\\ai testing course\\myenv312\\lib\\site-packages (from aiohttp->deepeval) (1.20.0)\n",
      "Requirement already satisfied: pywin32>=226 in c:\\users\\13735\\onedrive - expleo france\\desktop\\ai testing course\\myenv312\\lib\\site-packages (from portalocker->deepeval) (310)\n",
      "Requirement already satisfied: execnet>=2.1 in c:\\users\\13735\\onedrive - expleo france\\desktop\\ai testing course\\myenv312\\lib\\site-packages (from pytest-xdist->deepeval) (2.1.1)\n",
      "Requirement already satisfied: wrapt<2,>=1.10 in c:\\users\\13735\\onedrive - expleo france\\desktop\\ai testing course\\myenv312\\lib\\site-packages (from deprecated>=1.2.6->opentelemetry-api<2.0.0,>=1.24.0->deepeval) (1.17.2)\n",
      "Requirement already satisfied: cachetools<6.0,>=2.0.0 in c:\\users\\13735\\onedrive - expleo france\\desktop\\ai testing course\\myenv312\\lib\\site-packages (from google-auth<3.0.0,>=2.14.1->google-genai<2.0.0,>=1.9.0->deepeval) (5.5.2)\n",
      "Requirement already satisfied: pyasn1-modules>=0.2.1 in c:\\users\\13735\\onedrive - expleo france\\desktop\\ai testing course\\myenv312\\lib\\site-packages (from google-auth<3.0.0,>=2.14.1->google-genai<2.0.0,>=1.9.0->deepeval) (0.4.2)\n",
      "Requirement already satisfied: rsa<5,>=3.1.4 in c:\\users\\13735\\onedrive - expleo france\\desktop\\ai testing course\\myenv312\\lib\\site-packages (from google-auth<3.0.0,>=2.14.1->google-genai<2.0.0,>=1.9.0->deepeval) (4.9.1)\n",
      "Requirement already satisfied: httpcore==1.* in c:\\users\\13735\\onedrive - expleo france\\desktop\\ai testing course\\myenv312\\lib\\site-packages (from httpx<1,>=0.23.0->anthropic<0.50.0,>=0.49.0->deepeval) (1.0.9)\n",
      "Requirement already satisfied: h11>=0.16 in c:\\users\\13735\\onedrive - expleo france\\desktop\\ai testing course\\myenv312\\lib\\site-packages (from httpcore==1.*->httpx<1,>=0.23.0->anthropic<0.50.0,>=0.49.0->deepeval) (0.16.0)\n",
      "Requirement already satisfied: zipp>=3.20 in c:\\users\\13735\\onedrive - expleo france\\desktop\\ai testing course\\myenv312\\lib\\site-packages (from importlib-metadata<8.7.0,>=6.0->opentelemetry-api<2.0.0,>=1.24.0->deepeval) (3.22.0)\n",
      "Requirement already satisfied: mdurl~=0.1 in c:\\users\\13735\\onedrive - expleo france\\desktop\\ai testing course\\myenv312\\lib\\site-packages (from markdown-it-py>=2.2.0->rich<14.0.0,>=13.6.0->deepeval) (0.1.2)\n",
      "Requirement already satisfied: annotated-types>=0.6.0 in c:\\users\\13735\\onedrive - expleo france\\desktop\\ai testing course\\myenv312\\lib\\site-packages (from pydantic<3,>=1.9.0->anthropic<0.50.0,>=0.49.0->deepeval) (0.7.0)\n",
      "Requirement already satisfied: pydantic-core==2.33.2 in c:\\users\\13735\\onedrive - expleo france\\desktop\\ai testing course\\myenv312\\lib\\site-packages (from pydantic<3,>=1.9.0->anthropic<0.50.0,>=0.49.0->deepeval) (2.33.2)\n",
      "Requirement already satisfied: typing-inspection>=0.4.0 in c:\\users\\13735\\onedrive - expleo france\\desktop\\ai testing course\\myenv312\\lib\\site-packages (from pydantic<3,>=1.9.0->anthropic<0.50.0,>=0.49.0->deepeval) (0.4.1)\n",
      "Requirement already satisfied: pyasn1<0.7.0,>=0.6.1 in c:\\users\\13735\\onedrive - expleo france\\desktop\\ai testing course\\myenv312\\lib\\site-packages (from pyasn1-modules>=0.2.1->google-auth<3.0.0,>=2.14.1->google-genai<2.0.0,>=1.9.0->deepeval) (0.6.1)\n",
      "Note: you may need to restart the kernel to use updated packages.\n"
     ]
    },
    {
     "data": {
      "text/html": [
       "<pre style=\"white-space:pre;overflow-x:auto;line-height:normal;font-family:Menlo,'DejaVu Sans Mono',consolas,'Courier New',monospace\"></pre>\n"
      ],
      "text/plain": []
     },
     "metadata": {},
     "output_type": "display_data"
    },
    {
     "name": "stdout",
     "output_type": "stream",
     "text": [
      "1.0\n",
      "True\n",
      "None\n"
     ]
    }
   ],
   "source": [
    "# Ensure the deepeval package is installed\n",
    "%pip install deepeval\n",
    "\n",
    "from deepeval.test_case import LLMTestCase\n",
    "from deepeval.metrics import ContextualPrecisionMetric\n",
    "\n",
    "contextualPrecisionMetric = ContextualPrecisionMetric()\n",
    "test_case = LLMTestCase(\n",
    "    input=\"Who was the president of the United States in 2024\",\n",
    "    actual_output=\"Donald Trump\",\n",
    "    expected_output=\"Donald Trump\",\n",
    "    retrieval_context=[\"Donald trump was the president of the united states in 2024.\"],\n",
    ")\n",
    "contextualPrecisionMetric.measure(test_case=test_case)\n",
    "print(contextualPrecisionMetric.score)\n",
    "print(contextualPrecisionMetric.success) \n",
    "print(contextualPrecisionMetric.score_breakdown)"
   ]
  },
  {
   "cell_type": "markdown",
   "metadata": {},
   "source": [
    "EvaluateDataSet to evaluate our tests"
   ]
  },
  {
   "cell_type": "code",
   "execution_count": 45,
   "metadata": {},
   "outputs": [
    {
     "name": "stdout",
     "output_type": "stream",
     "text": [
      "Requirement already satisfied: deepeval in c:\\users\\13735\\onedrive - expleo france\\desktop\\ai testing course\\myenv312\\lib\\site-packages (3.0.3)\n",
      "Requirement already satisfied: aiohttp in c:\\users\\13735\\onedrive - expleo france\\desktop\\ai testing course\\myenv312\\lib\\site-packages (from deepeval) (3.12.7)\n",
      "Requirement already satisfied: anthropic<0.50.0,>=0.49.0 in c:\\users\\13735\\onedrive - expleo france\\desktop\\ai testing course\\myenv312\\lib\\site-packages (from deepeval) (0.49.0)\n",
      "Requirement already satisfied: click<8.2.0,>=8.0.0 in c:\\users\\13735\\onedrive - expleo france\\desktop\\ai testing course\\myenv312\\lib\\site-packages (from deepeval) (8.1.8)\n",
      "Requirement already satisfied: google-genai<2.0.0,>=1.9.0 in c:\\users\\13735\\onedrive - expleo france\\desktop\\ai testing course\\myenv312\\lib\\site-packages (from deepeval) (1.18.0)\n",
      "Requirement already satisfied: grpcio<2.0.0,>=1.67.1 in c:\\users\\13735\\onedrive - expleo france\\desktop\\ai testing course\\myenv312\\lib\\site-packages (from deepeval) (1.72.1)\n",
      "Requirement already satisfied: nest_asyncio in c:\\users\\13735\\onedrive - expleo france\\desktop\\ai testing course\\myenv312\\lib\\site-packages (from deepeval) (1.6.0)\n",
      "Requirement already satisfied: ollama in c:\\users\\13735\\onedrive - expleo france\\desktop\\ai testing course\\myenv312\\lib\\site-packages (from deepeval) (0.5.1)\n",
      "Requirement already satisfied: openai in c:\\users\\13735\\onedrive - expleo france\\desktop\\ai testing course\\myenv312\\lib\\site-packages (from deepeval) (1.83.0)\n",
      "Requirement already satisfied: opentelemetry-api<2.0.0,>=1.24.0 in c:\\users\\13735\\onedrive - expleo france\\desktop\\ai testing course\\myenv312\\lib\\site-packages (from deepeval) (1.33.1)\n",
      "Requirement already satisfied: opentelemetry-exporter-otlp-proto-grpc<2.0.0,>=1.24.0 in c:\\users\\13735\\onedrive - expleo france\\desktop\\ai testing course\\myenv312\\lib\\site-packages (from deepeval) (1.33.1)\n",
      "Requirement already satisfied: opentelemetry-sdk<2.0.0,>=1.24.0 in c:\\users\\13735\\onedrive - expleo france\\desktop\\ai testing course\\myenv312\\lib\\site-packages (from deepeval) (1.33.1)\n",
      "Requirement already satisfied: portalocker in c:\\users\\13735\\onedrive - expleo france\\desktop\\ai testing course\\myenv312\\lib\\site-packages (from deepeval) (3.1.1)\n",
      "Requirement already satisfied: posthog<4.0.0,>=3.23.0 in c:\\users\\13735\\onedrive - expleo france\\desktop\\ai testing course\\myenv312\\lib\\site-packages (from deepeval) (3.25.0)\n",
      "Requirement already satisfied: pytest in c:\\users\\13735\\onedrive - expleo france\\desktop\\ai testing course\\myenv312\\lib\\site-packages (from deepeval) (8.4.0)\n",
      "Requirement already satisfied: pytest-asyncio in c:\\users\\13735\\onedrive - expleo france\\desktop\\ai testing course\\myenv312\\lib\\site-packages (from deepeval) (1.0.0)\n",
      "Requirement already satisfied: pytest-repeat in c:\\users\\13735\\onedrive - expleo france\\desktop\\ai testing course\\myenv312\\lib\\site-packages (from deepeval) (0.9.4)\n",
      "Requirement already satisfied: pytest-rerunfailures<13.0,>=12.0 in c:\\users\\13735\\onedrive - expleo france\\desktop\\ai testing course\\myenv312\\lib\\site-packages (from deepeval) (12.0)\n",
      "Requirement already satisfied: pytest-xdist in c:\\users\\13735\\onedrive - expleo france\\desktop\\ai testing course\\myenv312\\lib\\site-packages (from deepeval) (3.7.0)\n",
      "Requirement already satisfied: requests<3.0.0,>=2.31.0 in c:\\users\\13735\\onedrive - expleo france\\desktop\\ai testing course\\myenv312\\lib\\site-packages (from deepeval) (2.32.3)\n",
      "Requirement already satisfied: rich<14.0.0,>=13.6.0 in c:\\users\\13735\\onedrive - expleo france\\desktop\\ai testing course\\myenv312\\lib\\site-packages (from deepeval) (13.9.4)\n",
      "Requirement already satisfied: sentry-sdk in c:\\users\\13735\\onedrive - expleo france\\desktop\\ai testing course\\myenv312\\lib\\site-packages (from deepeval) (2.29.1)\n",
      "Requirement already satisfied: setuptools in c:\\users\\13735\\onedrive - expleo france\\desktop\\ai testing course\\myenv312\\lib\\site-packages (from deepeval) (80.9.0)\n",
      "Requirement already satisfied: tabulate<0.10.0,>=0.9.0 in c:\\users\\13735\\onedrive - expleo france\\desktop\\ai testing course\\myenv312\\lib\\site-packages (from deepeval) (0.9.0)\n",
      "Requirement already satisfied: tenacity<=9.0.0 in c:\\users\\13735\\onedrive - expleo france\\desktop\\ai testing course\\myenv312\\lib\\site-packages (from deepeval) (9.0.0)\n",
      "Requirement already satisfied: tqdm<5.0.0,>=4.66.1 in c:\\users\\13735\\onedrive - expleo france\\desktop\\ai testing course\\myenv312\\lib\\site-packages (from deepeval) (4.67.1)\n",
      "Requirement already satisfied: typer<1.0.0,>=0.9 in c:\\users\\13735\\onedrive - expleo france\\desktop\\ai testing course\\myenv312\\lib\\site-packages (from deepeval) (0.16.0)\n",
      "Requirement already satisfied: wheel in c:\\users\\13735\\onedrive - expleo france\\desktop\\ai testing course\\myenv312\\lib\\site-packages (from deepeval) (0.45.1)\n",
      "Requirement already satisfied: anyio<5,>=3.5.0 in c:\\users\\13735\\onedrive - expleo france\\desktop\\ai testing course\\myenv312\\lib\\site-packages (from anthropic<0.50.0,>=0.49.0->deepeval) (4.9.0)\n",
      "Requirement already satisfied: distro<2,>=1.7.0 in c:\\users\\13735\\onedrive - expleo france\\desktop\\ai testing course\\myenv312\\lib\\site-packages (from anthropic<0.50.0,>=0.49.0->deepeval) (1.9.0)\n",
      "Requirement already satisfied: httpx<1,>=0.23.0 in c:\\users\\13735\\onedrive - expleo france\\desktop\\ai testing course\\myenv312\\lib\\site-packages (from anthropic<0.50.0,>=0.49.0->deepeval) (0.28.1)\n",
      "Requirement already satisfied: jiter<1,>=0.4.0 in c:\\users\\13735\\onedrive - expleo france\\desktop\\ai testing course\\myenv312\\lib\\site-packages (from anthropic<0.50.0,>=0.49.0->deepeval) (0.10.0)\n",
      "Requirement already satisfied: pydantic<3,>=1.9.0 in c:\\users\\13735\\onedrive - expleo france\\desktop\\ai testing course\\myenv312\\lib\\site-packages (from anthropic<0.50.0,>=0.49.0->deepeval) (2.11.5)\n",
      "Requirement already satisfied: sniffio in c:\\users\\13735\\onedrive - expleo france\\desktop\\ai testing course\\myenv312\\lib\\site-packages (from anthropic<0.50.0,>=0.49.0->deepeval) (1.3.1)\n",
      "Requirement already satisfied: typing-extensions<5,>=4.10 in c:\\users\\13735\\onedrive - expleo france\\desktop\\ai testing course\\myenv312\\lib\\site-packages (from anthropic<0.50.0,>=0.49.0->deepeval) (4.14.0)\n",
      "Requirement already satisfied: colorama in c:\\users\\13735\\onedrive - expleo france\\desktop\\ai testing course\\myenv312\\lib\\site-packages (from click<8.2.0,>=8.0.0->deepeval) (0.4.6)\n",
      "Requirement already satisfied: google-auth<3.0.0,>=2.14.1 in c:\\users\\13735\\onedrive - expleo france\\desktop\\ai testing course\\myenv312\\lib\\site-packages (from google-genai<2.0.0,>=1.9.0->deepeval) (2.40.2)\n",
      "Requirement already satisfied: websockets<15.1.0,>=13.0.0 in c:\\users\\13735\\onedrive - expleo france\\desktop\\ai testing course\\myenv312\\lib\\site-packages (from google-genai<2.0.0,>=1.9.0->deepeval) (15.0.1)\n",
      "Requirement already satisfied: deprecated>=1.2.6 in c:\\users\\13735\\onedrive - expleo france\\desktop\\ai testing course\\myenv312\\lib\\site-packages (from opentelemetry-api<2.0.0,>=1.24.0->deepeval) (1.2.18)\n",
      "Requirement already satisfied: importlib-metadata<8.7.0,>=6.0 in c:\\users\\13735\\onedrive - expleo france\\desktop\\ai testing course\\myenv312\\lib\\site-packages (from opentelemetry-api<2.0.0,>=1.24.0->deepeval) (8.6.1)\n",
      "Requirement already satisfied: googleapis-common-protos~=1.52 in c:\\users\\13735\\onedrive - expleo france\\desktop\\ai testing course\\myenv312\\lib\\site-packages (from opentelemetry-exporter-otlp-proto-grpc<2.0.0,>=1.24.0->deepeval) (1.70.0)\n",
      "Requirement already satisfied: opentelemetry-exporter-otlp-proto-common==1.33.1 in c:\\users\\13735\\onedrive - expleo france\\desktop\\ai testing course\\myenv312\\lib\\site-packages (from opentelemetry-exporter-otlp-proto-grpc<2.0.0,>=1.24.0->deepeval) (1.33.1)\n",
      "Requirement already satisfied: opentelemetry-proto==1.33.1 in c:\\users\\13735\\onedrive - expleo france\\desktop\\ai testing course\\myenv312\\lib\\site-packages (from opentelemetry-exporter-otlp-proto-grpc<2.0.0,>=1.24.0->deepeval) (1.33.1)\n",
      "Requirement already satisfied: protobuf<6.0,>=5.0 in c:\\users\\13735\\onedrive - expleo france\\desktop\\ai testing course\\myenv312\\lib\\site-packages (from opentelemetry-proto==1.33.1->opentelemetry-exporter-otlp-proto-grpc<2.0.0,>=1.24.0->deepeval) (5.29.5)\n",
      "Requirement already satisfied: opentelemetry-semantic-conventions==0.54b1 in c:\\users\\13735\\onedrive - expleo france\\desktop\\ai testing course\\myenv312\\lib\\site-packages (from opentelemetry-sdk<2.0.0,>=1.24.0->deepeval) (0.54b1)\n",
      "Requirement already satisfied: six>=1.5 in c:\\users\\13735\\onedrive - expleo france\\desktop\\ai testing course\\myenv312\\lib\\site-packages (from posthog<4.0.0,>=3.23.0->deepeval) (1.17.0)\n",
      "Requirement already satisfied: monotonic>=1.5 in c:\\users\\13735\\onedrive - expleo france\\desktop\\ai testing course\\myenv312\\lib\\site-packages (from posthog<4.0.0,>=3.23.0->deepeval) (1.6)\n",
      "Requirement already satisfied: backoff>=1.10.0 in c:\\users\\13735\\onedrive - expleo france\\desktop\\ai testing course\\myenv312\\lib\\site-packages (from posthog<4.0.0,>=3.23.0->deepeval) (2.2.1)\n",
      "Requirement already satisfied: python-dateutil>2.1 in c:\\users\\13735\\onedrive - expleo france\\desktop\\ai testing course\\myenv312\\lib\\site-packages (from posthog<4.0.0,>=3.23.0->deepeval) (2.9.0.post0)\n",
      "Requirement already satisfied: packaging>=17.1 in c:\\users\\13735\\onedrive - expleo france\\desktop\\ai testing course\\myenv312\\lib\\site-packages (from pytest-rerunfailures<13.0,>=12.0->deepeval) (25.0)\n",
      "Requirement already satisfied: iniconfig>=1 in c:\\users\\13735\\onedrive - expleo france\\desktop\\ai testing course\\myenv312\\lib\\site-packages (from pytest->deepeval) (2.1.0)\n",
      "Requirement already satisfied: pluggy<2,>=1.5 in c:\\users\\13735\\onedrive - expleo france\\desktop\\ai testing course\\myenv312\\lib\\site-packages (from pytest->deepeval) (1.6.0)\n",
      "Requirement already satisfied: pygments>=2.7.2 in c:\\users\\13735\\onedrive - expleo france\\desktop\\ai testing course\\myenv312\\lib\\site-packages (from pytest->deepeval) (2.19.1)\n",
      "Requirement already satisfied: charset-normalizer<4,>=2 in c:\\users\\13735\\onedrive - expleo france\\desktop\\ai testing course\\myenv312\\lib\\site-packages (from requests<3.0.0,>=2.31.0->deepeval) (3.4.2)\n",
      "Requirement already satisfied: idna<4,>=2.5 in c:\\users\\13735\\onedrive - expleo france\\desktop\\ai testing course\\myenv312\\lib\\site-packages (from requests<3.0.0,>=2.31.0->deepeval) (3.10)\n",
      "Requirement already satisfied: urllib3<3,>=1.21.1 in c:\\users\\13735\\onedrive - expleo france\\desktop\\ai testing course\\myenv312\\lib\\site-packages (from requests<3.0.0,>=2.31.0->deepeval) (2.4.0)\n",
      "Requirement already satisfied: certifi>=2017.4.17 in c:\\users\\13735\\onedrive - expleo france\\desktop\\ai testing course\\myenv312\\lib\\site-packages (from requests<3.0.0,>=2.31.0->deepeval) (2025.4.26)\n",
      "Requirement already satisfied: markdown-it-py>=2.2.0 in c:\\users\\13735\\onedrive - expleo france\\desktop\\ai testing course\\myenv312\\lib\\site-packages (from rich<14.0.0,>=13.6.0->deepeval) (3.0.0)\n",
      "Requirement already satisfied: shellingham>=1.3.0 in c:\\users\\13735\\onedrive - expleo france\\desktop\\ai testing course\\myenv312\\lib\\site-packages (from typer<1.0.0,>=0.9->deepeval) (1.5.4)\n",
      "Requirement already satisfied: aiohappyeyeballs>=2.5.0 in c:\\users\\13735\\onedrive - expleo france\\desktop\\ai testing course\\myenv312\\lib\\site-packages (from aiohttp->deepeval) (2.6.1)\n",
      "Requirement already satisfied: aiosignal>=1.1.2 in c:\\users\\13735\\onedrive - expleo france\\desktop\\ai testing course\\myenv312\\lib\\site-packages (from aiohttp->deepeval) (1.3.2)\n",
      "Requirement already satisfied: attrs>=17.3.0 in c:\\users\\13735\\onedrive - expleo france\\desktop\\ai testing course\\myenv312\\lib\\site-packages (from aiohttp->deepeval) (25.3.0)\n",
      "Requirement already satisfied: frozenlist>=1.1.1 in c:\\users\\13735\\onedrive - expleo france\\desktop\\ai testing course\\myenv312\\lib\\site-packages (from aiohttp->deepeval) (1.6.0)\n",
      "Requirement already satisfied: multidict<7.0,>=4.5 in c:\\users\\13735\\onedrive - expleo france\\desktop\\ai testing course\\myenv312\\lib\\site-packages (from aiohttp->deepeval) (6.4.4)\n",
      "Requirement already satisfied: propcache>=0.2.0 in c:\\users\\13735\\onedrive - expleo france\\desktop\\ai testing course\\myenv312\\lib\\site-packages (from aiohttp->deepeval) (0.3.1)\n",
      "Requirement already satisfied: yarl<2.0,>=1.17.0 in c:\\users\\13735\\onedrive - expleo france\\desktop\\ai testing course\\myenv312\\lib\\site-packages (from aiohttp->deepeval) (1.20.0)\n",
      "Requirement already satisfied: pywin32>=226 in c:\\users\\13735\\onedrive - expleo france\\desktop\\ai testing course\\myenv312\\lib\\site-packages (from portalocker->deepeval) (310)\n",
      "Requirement already satisfied: execnet>=2.1 in c:\\users\\13735\\onedrive - expleo france\\desktop\\ai testing course\\myenv312\\lib\\site-packages (from pytest-xdist->deepeval) (2.1.1)\n",
      "Requirement already satisfied: wrapt<2,>=1.10 in c:\\users\\13735\\onedrive - expleo france\\desktop\\ai testing course\\myenv312\\lib\\site-packages (from deprecated>=1.2.6->opentelemetry-api<2.0.0,>=1.24.0->deepeval) (1.17.2)\n",
      "Requirement already satisfied: cachetools<6.0,>=2.0.0 in c:\\users\\13735\\onedrive - expleo france\\desktop\\ai testing course\\myenv312\\lib\\site-packages (from google-auth<3.0.0,>=2.14.1->google-genai<2.0.0,>=1.9.0->deepeval) (5.5.2)\n",
      "Requirement already satisfied: pyasn1-modules>=0.2.1 in c:\\users\\13735\\onedrive - expleo france\\desktop\\ai testing course\\myenv312\\lib\\site-packages (from google-auth<3.0.0,>=2.14.1->google-genai<2.0.0,>=1.9.0->deepeval) (0.4.2)\n",
      "Requirement already satisfied: rsa<5,>=3.1.4 in c:\\users\\13735\\onedrive - expleo france\\desktop\\ai testing course\\myenv312\\lib\\site-packages (from google-auth<3.0.0,>=2.14.1->google-genai<2.0.0,>=1.9.0->deepeval) (4.9.1)\n",
      "Requirement already satisfied: httpcore==1.* in c:\\users\\13735\\onedrive - expleo france\\desktop\\ai testing course\\myenv312\\lib\\site-packages (from httpx<1,>=0.23.0->anthropic<0.50.0,>=0.49.0->deepeval) (1.0.9)\n",
      "Requirement already satisfied: h11>=0.16 in c:\\users\\13735\\onedrive - expleo france\\desktop\\ai testing course\\myenv312\\lib\\site-packages (from httpcore==1.*->httpx<1,>=0.23.0->anthropic<0.50.0,>=0.49.0->deepeval) (0.16.0)\n",
      "Requirement already satisfied: zipp>=3.20 in c:\\users\\13735\\onedrive - expleo france\\desktop\\ai testing course\\myenv312\\lib\\site-packages (from importlib-metadata<8.7.0,>=6.0->opentelemetry-api<2.0.0,>=1.24.0->deepeval) (3.22.0)\n",
      "Requirement already satisfied: mdurl~=0.1 in c:\\users\\13735\\onedrive - expleo france\\desktop\\ai testing course\\myenv312\\lib\\site-packages (from markdown-it-py>=2.2.0->rich<14.0.0,>=13.6.0->deepeval) (0.1.2)\n",
      "Requirement already satisfied: annotated-types>=0.6.0 in c:\\users\\13735\\onedrive - expleo france\\desktop\\ai testing course\\myenv312\\lib\\site-packages (from pydantic<3,>=1.9.0->anthropic<0.50.0,>=0.49.0->deepeval) (0.7.0)\n",
      "Requirement already satisfied: pydantic-core==2.33.2 in c:\\users\\13735\\onedrive - expleo france\\desktop\\ai testing course\\myenv312\\lib\\site-packages (from pydantic<3,>=1.9.0->anthropic<0.50.0,>=0.49.0->deepeval) (2.33.2)\n",
      "Requirement already satisfied: typing-inspection>=0.4.0 in c:\\users\\13735\\onedrive - expleo france\\desktop\\ai testing course\\myenv312\\lib\\site-packages (from pydantic<3,>=1.9.0->anthropic<0.50.0,>=0.49.0->deepeval) (0.4.1)\n",
      "Requirement already satisfied: pyasn1<0.7.0,>=0.6.1 in c:\\users\\13735\\onedrive - expleo france\\desktop\\ai testing course\\myenv312\\lib\\site-packages (from pyasn1-modules>=0.2.1->google-auth<3.0.0,>=2.14.1->google-genai<2.0.0,>=1.9.0->deepeval) (0.6.1)\n",
      "Note: you may need to restart the kernel to use updated packages.\n"
     ]
    },
    {
     "name": "stderr",
     "output_type": "stream",
     "text": [
      "\n",
      "[notice] A new release of pip is available: 24.0 -> 25.1.1\n",
      "[notice] To update, run: python.exe -m pip install --upgrade pip\n"
     ]
    }
   ],
   "source": [
    "%pip install deepeval\n",
    "\n",
    "from deepeval.test_case import LLMTestCase\n",
    "from deepeval.metrics import AnswerRelevancyMetric\n",
    "from deepeval.dataset import EvaluationDataset\n",
    "\n",
    "answer_relevancy_metric = AnswerRelevancyMetric()\n",
    "test_case = LLMTestCase(\n",
    "    input=\"Who is the current president of the United States?\",\n",
    "    actual_output=\"Joe Biden\",\n",
    "    retrieval_context=[\"joe biden serve as the current president of the united states since january 20, 2021.\"],\n",
    ")\n",
    "dataset= EvaluationDataset(test_cases=[test_case])"
   ]
  },
  {
   "cell_type": "code",
   "execution_count": 46,
   "metadata": {},
   "outputs": [
    {
     "data": {
      "text/plain": [
       "EvaluationDataset(test_cases=[LLMTestCase(input='Who is the current president of the United States?', actual_output='Joe Biden', expected_output=None, context=None, retrieval_context=['joe biden serve as the current president of the united states since january 20, 2021.'], additional_metadata=None, comments=None, tools_called=None, expected_tools=None, token_cost=None, completion_time=None, name=None)], goldens=[], conversational_goldens=[], _alias=None, _id=None)"
      ]
     },
     "execution_count": 46,
     "metadata": {},
     "output_type": "execute_result"
    }
   ],
   "source": [
    "dataset"
   ]
  },
  {
   "cell_type": "markdown",
   "metadata": {},
   "source": [
    "Evaluation Dataset"
   ]
  },
  {
   "cell_type": "code",
   "execution_count": 47,
   "metadata": {},
   "outputs": [
    {
     "data": {
      "text/html": [
       "<pre style=\"white-space:pre;overflow-x:auto;line-height:normal;font-family:Menlo,'DejaVu Sans Mono',consolas,'Courier New',monospace\">✨ You're running DeepEval's latest <span style=\"color: #6a00ff; text-decoration-color: #6a00ff\">Answer Relevancy Metric</span>! <span style=\"color: #374151; text-decoration-color: #374151; font-weight: bold\">(</span><span style=\"color: #374151; text-decoration-color: #374151\">using gpt-4o, </span><span style=\"color: #374151; text-decoration-color: #374151\">strict</span><span style=\"color: #374151; text-decoration-color: #374151\">=</span><span style=\"color: #374151; text-decoration-color: #374151; font-style: italic\">False</span><span style=\"color: #374151; text-decoration-color: #374151\">, </span><span style=\"color: #374151; text-decoration-color: #374151\">async_mode</span><span style=\"color: #374151; text-decoration-color: #374151\">=</span><span style=\"color: #374151; text-decoration-color: #374151; font-style: italic\">True</span><span style=\"color: #374151; text-decoration-color: #374151; font-weight: bold\">)</span><span style=\"color: #374151; text-decoration-color: #374151\">...</span>\n",
       "</pre>\n"
      ],
      "text/plain": [
       "✨ You're running DeepEval's latest \u001b[38;2;106;0;255mAnswer Relevancy Metric\u001b[0m! \u001b[1;38;2;55;65;81m(\u001b[0m\u001b[38;2;55;65;81musing gpt-4o, \u001b[0m\u001b[38;2;55;65;81mstrict\u001b[0m\u001b[38;2;55;65;81m=\u001b[0m\u001b[3;38;2;55;65;81mFalse\u001b[0m\u001b[38;2;55;65;81m, \u001b[0m\u001b[38;2;55;65;81masync_mode\u001b[0m\u001b[38;2;55;65;81m=\u001b[0m\u001b[3;38;2;55;65;81mTrue\u001b[0m\u001b[1;38;2;55;65;81m)\u001b[0m\u001b[38;2;55;65;81m...\u001b[0m\n"
      ]
     },
     "metadata": {},
     "output_type": "display_data"
    },
    {
     "name": "stderr",
     "output_type": "stream",
     "text": [
      "Evaluating 1 test case(s) in parallel: |██████████|100% (1/1) [Time Taken: 00:05,  5.99s/test case]\n"
     ]
    },
    {
     "name": "stdout",
     "output_type": "stream",
     "text": [
      "\n",
      "======================================================================\n",
      "\n",
      "Metrics Summary\n",
      "\n",
      "  - ✅ Answer Relevancy (score: 1.0, threshold: 0.5, strict: False, evaluation model: gpt-4o, reason: The score is 1.00 because the response directly and accurately answered the question without any irrelevant information. Great job on staying focused and precise!, error: None)\n",
      "\n",
      "For test case:\n",
      "\n",
      "  - input: Who is the current president of the United States?\n",
      "  - actual output: Joe Biden\n",
      "  - expected output: None\n",
      "  - context: None\n",
      "  - retrieval context: ['joe biden serve as the current president of the united states since january 20, 2021.']\n",
      "\n",
      "======================================================================\n",
      "\n",
      "Overall Metric Pass Rates\n",
      "\n",
      "Answer Relevancy: 100.00% pass rate\n",
      "\n",
      "======================================================================\n",
      "\n"
     ]
    },
    {
     "data": {
      "text/html": [
       "<pre style=\"white-space:pre;overflow-x:auto;line-height:normal;font-family:Menlo,'DejaVu Sans Mono',consolas,'Courier New',monospace\"><span style=\"color: #05f58d; text-decoration-color: #05f58d\">✓</span> Tests finished 🎉! View results on \n",
       "<a href=\"https://app.confident-ai.com/project/cmcbwdbvz0d0jojp1s0x11kaz/evaluation/test-runs/cmchyssnw0abnqroe8fqt6isa/test-cases\" target=\"_blank\"><span style=\"color: #0000ff; text-decoration-color: #0000ff; text-decoration: underline\">https://app.confident-ai.com/project/cmcbwdbvz0d0jojp1s0x11kaz/evaluation/test-runs/cmchyssnw0abnqroe8fqt6isa/test-</span></a>\n",
       "<a href=\"https://app.confident-ai.com/project/cmcbwdbvz0d0jojp1s0x11kaz/evaluation/test-runs/cmchyssnw0abnqroe8fqt6isa/test-cases\" target=\"_blank\"><span style=\"color: #0000ff; text-decoration-color: #0000ff; text-decoration: underline\">cases</span></a><span style=\"color: #0000ff; text-decoration-color: #0000ff; text-decoration: underline\">.</span>\n",
       "</pre>\n"
      ],
      "text/plain": [
       "\u001b[38;2;5;245;141m✓\u001b[0m Tests finished 🎉! View results on \n",
       "\u001b]8;id=897796;https://app.confident-ai.com/project/cmcbwdbvz0d0jojp1s0x11kaz/evaluation/test-runs/cmchyssnw0abnqroe8fqt6isa/test-cases\u001b\\\u001b[4;94mhttps://app.confident-ai.com/project/cmcbwdbvz0d0jojp1s0x11kaz/evaluation/test-runs/cmchyssnw0abnqroe8fqt6isa/test-\u001b[0m\u001b]8;;\u001b\\\n",
       "\u001b]8;id=897796;https://app.confident-ai.com/project/cmcbwdbvz0d0jojp1s0x11kaz/evaluation/test-runs/cmchyssnw0abnqroe8fqt6isa/test-cases\u001b\\\u001b[4;94mcases\u001b[0m\u001b]8;;\u001b\\\u001b[4;94m.\u001b[0m\n"
      ]
     },
     "metadata": {},
     "output_type": "display_data"
    },
    {
     "data": {
      "text/plain": [
       "EvaluationResult(test_results=[TestResult(name='test_case_0', success=True, metrics_data=[MetricData(name='Answer Relevancy', threshold=0.5, success=True, score=1.0, reason='The score is 1.00 because the response directly and accurately answered the question without any irrelevant information. Great job on staying focused and precise!', strict_mode=False, evaluation_model='gpt-4o', error=None, evaluation_cost=0.0035925000000000006, verbose_logs='Statements:\\n[\\n    \"Joe Biden\"\\n] \\n \\nVerdicts:\\n[\\n    {\\n        \"verdict\": \"yes\",\\n        \"reason\": null\\n    }\\n]')], conversational=False, multimodal=False, input='Who is the current president of the United States?', actual_output='Joe Biden', expected_output=None, context=None, retrieval_context=['joe biden serve as the current president of the united states since january 20, 2021.'], additional_metadata=None)], confident_link='https://app.confident-ai.com/project/cmcbwdbvz0d0jojp1s0x11kaz/evaluation/test-runs/cmchyssnw0abnqroe8fqt6isa/test-cases')"
      ]
     },
     "execution_count": 47,
     "metadata": {},
     "output_type": "execute_result"
    }
   ],
   "source": [
    "dataset.evaluate(metrics=[answer_relevancy_metric])"
   ]
  },
  {
   "cell_type": "markdown",
   "metadata": {},
   "source": [
    "Set the local llm for evaluation instead of openai key"
   ]
  },
  {
   "cell_type": "code",
   "execution_count": 56,
   "metadata": {},
   "outputs": [
    {
     "name": "stdout",
     "output_type": "stream",
     "text": [
      "🙌 Congratulations! You're now using a local Ollama model for all evals that \n",
      "require an LLM.\n"
     ]
    }
   ],
   "source": [
    "!deepeval set-ollama deepseek-r1:8b "
   ]
  },
  {
   "cell_type": "code",
   "execution_count": 58,
   "metadata": {},
   "outputs": [
    {
     "data": {
      "text/html": [
       "<pre style=\"white-space:pre;overflow-x:auto;line-height:normal;font-family:Menlo,'DejaVu Sans Mono',consolas,'Courier New',monospace\">✨ You're running DeepEval's latest <span style=\"color: #6a00ff; text-decoration-color: #6a00ff\">Answer Relevancy Metric</span>! <span style=\"color: #374151; text-decoration-color: #374151; font-weight: bold\">(</span><span style=\"color: #374151; text-decoration-color: #374151\">using deepseek-r</span><span style=\"color: #374151; text-decoration-color: #374151; font-weight: bold\">1:8b</span><span style=\"color: #374151; text-decoration-color: #374151\"> </span><span style=\"color: #374151; text-decoration-color: #374151; font-weight: bold\">(</span><span style=\"color: #374151; text-decoration-color: #374151\">Ollama</span><span style=\"color: #374151; text-decoration-color: #374151; font-weight: bold\">)</span><span style=\"color: #374151; text-decoration-color: #374151\">, </span><span style=\"color: #374151; text-decoration-color: #374151\">strict</span><span style=\"color: #374151; text-decoration-color: #374151\">=</span><span style=\"color: #374151; text-decoration-color: #374151; font-style: italic\">False</span><span style=\"color: #374151; text-decoration-color: #374151\">, </span>\n",
       "<span style=\"color: #374151; text-decoration-color: #374151\">async_mode</span><span style=\"color: #374151; text-decoration-color: #374151\">=</span><span style=\"color: #374151; text-decoration-color: #374151; font-style: italic\">True</span><span style=\"color: #374151; text-decoration-color: #374151; font-weight: bold\">)</span><span style=\"color: #374151; text-decoration-color: #374151\">...</span>\n",
       "</pre>\n"
      ],
      "text/plain": [
       "✨ You're running DeepEval's latest \u001b[38;2;106;0;255mAnswer Relevancy Metric\u001b[0m! \u001b[1;38;2;55;65;81m(\u001b[0m\u001b[38;2;55;65;81musing deepseek-r\u001b[0m\u001b[1;38;2;55;65;81m1:8b\u001b[0m\u001b[38;2;55;65;81m \u001b[0m\u001b[1;38;2;55;65;81m(\u001b[0m\u001b[38;2;55;65;81mOllama\u001b[0m\u001b[1;38;2;55;65;81m)\u001b[0m\u001b[38;2;55;65;81m, \u001b[0m\u001b[38;2;55;65;81mstrict\u001b[0m\u001b[38;2;55;65;81m=\u001b[0m\u001b[3;38;2;55;65;81mFalse\u001b[0m\u001b[38;2;55;65;81m, \u001b[0m\n",
       "\u001b[38;2;55;65;81masync_mode\u001b[0m\u001b[38;2;55;65;81m=\u001b[0m\u001b[3;38;2;55;65;81mTrue\u001b[0m\u001b[1;38;2;55;65;81m)\u001b[0m\u001b[38;2;55;65;81m...\u001b[0m\n"
      ]
     },
     "metadata": {},
     "output_type": "display_data"
    },
    {
     "name": "stderr",
     "output_type": "stream",
     "text": [
      "Evaluating 1 test case(s) in parallel: |██████████|100% (1/1) [Time Taken: 04:01, 241.74s/test case]\n"
     ]
    },
    {
     "name": "stdout",
     "output_type": "stream",
     "text": [
      "\n",
      "======================================================================\n",
      "\n",
      "Metrics Summary\n",
      "\n",
      "  - ✅ Answer Relevancy (score: 1.0, threshold: 0.5, strict: False, evaluation model: deepseek-r1:8b (Ollama), reason: The answer relevancy score is 1.00 because the response directly answers the user's question about who is the current president of the United States, and there are no irrelevant statements in the actual output., error: None)\n",
      "\n",
      "For test case:\n",
      "\n",
      "  - input: Who is the current president of the United States?\n",
      "  - actual output: Joe Biden\n",
      "  - expected output: None\n",
      "  - context: None\n",
      "  - retrieval context: None\n",
      "\n",
      "======================================================================\n",
      "\n",
      "Overall Metric Pass Rates\n",
      "\n",
      "Answer Relevancy: 100.00% pass rate\n",
      "\n",
      "======================================================================\n",
      "\n"
     ]
    },
    {
     "data": {
      "text/html": [
       "<pre style=\"white-space:pre;overflow-x:auto;line-height:normal;font-family:Menlo,'DejaVu Sans Mono',consolas,'Courier New',monospace\"><span style=\"color: #05f58d; text-decoration-color: #05f58d\">✓</span> Tests finished 🎉! View results on \n",
       "<a href=\"https://app.confident-ai.com/project/cmcbwdbvz0d0jojp1s0x11kaz/evaluation/test-runs/cmci1c7fx0b2mqroe87xz3xff/test-cases\" target=\"_blank\"><span style=\"color: #0000ff; text-decoration-color: #0000ff; text-decoration: underline\">https://app.confident-ai.com/project/cmcbwdbvz0d0jojp1s0x11kaz/evaluation/test-runs/cmci1c7fx0b2mqroe87xz3xff/test-</span></a>\n",
       "<a href=\"https://app.confident-ai.com/project/cmcbwdbvz0d0jojp1s0x11kaz/evaluation/test-runs/cmci1c7fx0b2mqroe87xz3xff/test-cases\" target=\"_blank\"><span style=\"color: #0000ff; text-decoration-color: #0000ff; text-decoration: underline\">cases</span></a><span style=\"color: #0000ff; text-decoration-color: #0000ff; text-decoration: underline\">.</span>\n",
       "</pre>\n"
      ],
      "text/plain": [
       "\u001b[38;2;5;245;141m✓\u001b[0m Tests finished 🎉! View results on \n",
       "\u001b]8;id=563411;https://app.confident-ai.com/project/cmcbwdbvz0d0jojp1s0x11kaz/evaluation/test-runs/cmci1c7fx0b2mqroe87xz3xff/test-cases\u001b\\\u001b[4;94mhttps://app.confident-ai.com/project/cmcbwdbvz0d0jojp1s0x11kaz/evaluation/test-runs/cmci1c7fx0b2mqroe87xz3xff/test-\u001b[0m\u001b]8;;\u001b\\\n",
       "\u001b]8;id=563411;https://app.confident-ai.com/project/cmcbwdbvz0d0jojp1s0x11kaz/evaluation/test-runs/cmci1c7fx0b2mqroe87xz3xff/test-cases\u001b\\\u001b[4;94mcases\u001b[0m\u001b]8;;\u001b\\\u001b[4;94m.\u001b[0m\n"
      ]
     },
     "metadata": {},
     "output_type": "display_data"
    },
    {
     "data": {
      "text/plain": [
       "EvaluationResult(test_results=[TestResult(name='test_case_0', success=True, metrics_data=[MetricData(name='Answer Relevancy', threshold=0.5, success=True, score=1.0, reason=\"The answer relevancy score is 1.00 because the response directly answers the user's question about who is the current president of the United States, and there are no irrelevant statements in the actual output.\", strict_mode=False, evaluation_model='deepseek-r1:8b (Ollama)', error=None, evaluation_cost=0.0, verbose_logs='Statements:\\n[\\n    \"Joe Biden\"\\n] \\n \\nVerdicts:\\n[\\n    {\\n        \"verdict\": \"yes\",\\n        \"reason\": null\\n    }\\n]')], conversational=False, multimodal=False, input='Who is the current president of the United States?', actual_output='Joe Biden', expected_output=None, context=None, retrieval_context=None, additional_metadata=None)], confident_link='https://app.confident-ai.com/project/cmcbwdbvz0d0jojp1s0x11kaz/evaluation/test-runs/cmci1c7fx0b2mqroe87xz3xff/test-cases')"
      ]
     },
     "execution_count": 58,
     "metadata": {},
     "output_type": "execute_result"
    }
   ],
   "source": [
    "# %pip install deepeval\n",
    "from deepeval.test_case import LLMTestCase\n",
    "from deepeval.metrics import AnswerRelevancyMetric\n",
    "from deepeval.dataset import EvaluationDataset\n",
    "\n",
    "answer_relevancy_metric = AnswerRelevancyMetric()\n",
    "test_case = LLMTestCase(\n",
    "    input=\"Who is the current president of the United States?\",\n",
    "    actual_output=\"Joe Biden\",\n",
    "    retrieval_context=[\"joe biden serve as the current president of the united states since january 20, 2021.\"],\n",
    ")\n",
    "dataset= EvaluationDataset(test_cases=[test_case])\n",
    "dataset.evaluate(metrics=[answer_relevancy_metric])"
   ]
  },
  {
   "cell_type": "markdown",
   "metadata": {},
   "source": [
    "pulling the dataset from confident ai"
   ]
  },
  {
   "cell_type": "code",
   "execution_count": 59,
   "metadata": {},
   "outputs": [
    {
     "data": {
      "text/html": [
       "<pre style=\"white-space:pre;overflow-x:auto;line-height:normal;font-family:Menlo,'DejaVu Sans Mono',consolas,'Courier New',monospace\">c:\\Users\\13735\\OneDrive - Expleo France\\Desktop\\Ai Testing course\\myenv312\\Lib\\site-packages\\rich\\live.py:231: \n",
       "UserWarning: install \"ipywidgets\" for Jupyter support\n",
       "  warnings.warn('install \"ipywidgets\" for Jupyter support')\n",
       "</pre>\n"
      ],
      "text/plain": [
       "c:\\Users\\13735\\OneDrive - Expleo France\\Desktop\\Ai Testing course\\myenv312\\Lib\\site-packages\\rich\\live.py:231: \n",
       "UserWarning: install \"ipywidgets\" for Jupyter support\n",
       "  warnings.warn('install \"ipywidgets\" for Jupyter support')\n"
      ]
     },
     "metadata": {},
     "output_type": "display_data"
    },
    {
     "data": {
      "text/html": [
       "<pre style=\"white-space:pre;overflow-x:auto;line-height:normal;font-family:Menlo,'DejaVu Sans Mono',consolas,'Courier New',monospace\"></pre>\n"
      ],
      "text/plain": []
     },
     "metadata": {},
     "output_type": "display_data"
    },
    {
     "name": "stdout",
     "output_type": "stream",
     "text": [
      "EvaluationDataset(test_cases=[LLMTestCase(input='Who is the current president of the United States of america?', actual_output=None, expected_output='Donald trump serve as the current president of the united state of america', context=None, retrieval_context=['Donald trump serve as the current president of the united states since 2025.'], additional_metadata=None, comments='first try', tools_called=None, expected_tools=None, token_cost=None, completion_time=None, name=None), LLMTestCase(input='who introduced gpt model', actual_output=None, expected_output='open ai', context=None, retrieval_context=None, additional_metadata=None, comments=None, tools_called=None, expected_tools=None, token_cost=None, completion_time=None, name=None)], goldens=[], conversational_goldens=[], _alias=test, _id=cmci1pado0b4eqroewil2z9f3)\n"
     ]
    }
   ],
   "source": [
    "dataset.pull(alias=\"test\",auto_convert_goldens_to_test_cases=True)\n",
    "print(dataset)"
   ]
  },
  {
   "cell_type": "markdown",
   "metadata": {},
   "source": [
    "### Creating Golden dataset for evaluation"
   ]
  },
  {
   "cell_type": "code",
   "execution_count": 62,
   "metadata": {},
   "outputs": [],
   "source": [
    "test_data=[\n",
    "    {\n",
    "        \"input\": \"Who is the current president of the United States?\",\n",
    "        \"expected_output\": \"Joe Biden\",\n",
    "    },\n",
    "    {\n",
    "        \"input\": \"who introduced gpt model?\",\n",
    "        \"expected_output\": \"open ai\",\n",
    "    }\n",
    "]"
   ]
  },
  {
   "cell_type": "code",
   "execution_count": 63,
   "metadata": {},
   "outputs": [],
   "source": [
    "from deepeval.dataset import Golden,EvaluationDataset # type: ignore\n",
    "\n",
    "goldens=[ \n",
    "]\n",
    "for data in test_data:\n",
    "    golden=Golden(\n",
    "        input=data[\"input\"],\n",
    "        expected_output=data[\"expected_output\"]\n",
    "    )\n",
    "    goldens.append(golden)\n",
    "\n",
    "dataset = EvaluationDataset(goldens=goldens)\n"
   ]
  }
 ],
 "metadata": {
  "kernelspec": {
   "display_name": "myenv312",
   "language": "python",
   "name": "python3"
  },
  "language_info": {
   "codemirror_mode": {
    "name": "ipython",
    "version": 3
   },
   "file_extension": ".py",
   "mimetype": "text/x-python",
   "name": "python",
   "nbconvert_exporter": "python",
   "pygments_lexer": "ipython3",
   "version": "3.12.2"
  }
 },
 "nbformat": 4,
 "nbformat_minor": 2
}
